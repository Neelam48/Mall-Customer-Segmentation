{
 "cells": [
  {
   "cell_type": "markdown",
   "id": "d93834d5",
   "metadata": {},
   "source": [
    "# <p style=\"text-align:center;\" >  <span style=\"font-size:42px\" > <span style='background:'> **Classification - Prediction of House Grade** </span> <span> <span>  </p> \n"
   ]
  },
  {
   "cell_type": "markdown",
   "id": "64ed00d7",
   "metadata": {},
   "source": [
    "******************"
   ]
  },
  {
   "cell_type": "markdown",
   "id": "0fba99e8",
   "metadata": {},
   "source": [
    "<div class=\"alert alert-info\"> <p style=\"text-align:center;\" >  <span style=\"font-size:28px\" > Loading Dataset <span>  </div> <p>"
   ]
  },
  {
   "cell_type": "code",
   "execution_count": 1,
   "id": "26472a76",
   "metadata": {},
   "outputs": [],
   "source": [
    "import pandas as pd\n",
    "import numpy as np"
   ]
  },
  {
   "cell_type": "code",
   "execution_count": 2,
   "id": "19d92469",
   "metadata": {},
   "outputs": [
    {
     "data": {
      "text/html": [
       "<div>\n",
       "<style scoped>\n",
       "    .dataframe tbody tr th:only-of-type {\n",
       "        vertical-align: middle;\n",
       "    }\n",
       "\n",
       "    .dataframe tbody tr th {\n",
       "        vertical-align: top;\n",
       "    }\n",
       "\n",
       "    .dataframe thead th {\n",
       "        text-align: right;\n",
       "    }\n",
       "</style>\n",
       "<table border=\"1\" class=\"dataframe\">\n",
       "  <thead>\n",
       "    <tr style=\"text-align: right;\">\n",
       "      <th></th>\n",
       "      <th>Id</th>\n",
       "      <th>Area(total)</th>\n",
       "      <th>Trooms</th>\n",
       "      <th>Nbedrooms</th>\n",
       "      <th>Nbwashrooms</th>\n",
       "      <th>Twashrooms</th>\n",
       "      <th>roof</th>\n",
       "      <th>Roof(Area)</th>\n",
       "      <th>Lawn(Area)</th>\n",
       "      <th>Nfloors</th>\n",
       "      <th>API</th>\n",
       "      <th>ANB</th>\n",
       "      <th>Expected price</th>\n",
       "      <th>Grade</th>\n",
       "    </tr>\n",
       "  </thead>\n",
       "  <tbody>\n",
       "    <tr>\n",
       "      <th>0</th>\n",
       "      <td>1</td>\n",
       "      <td>339</td>\n",
       "      <td>6</td>\n",
       "      <td>5</td>\n",
       "      <td>4</td>\n",
       "      <td>6</td>\n",
       "      <td>NO</td>\n",
       "      <td>0</td>\n",
       "      <td>76</td>\n",
       "      <td>2</td>\n",
       "      <td>79</td>\n",
       "      <td>6</td>\n",
       "      <td>3481</td>\n",
       "      <td>D</td>\n",
       "    </tr>\n",
       "    <tr>\n",
       "      <th>1</th>\n",
       "      <td>2</td>\n",
       "      <td>358</td>\n",
       "      <td>5</td>\n",
       "      <td>4</td>\n",
       "      <td>3</td>\n",
       "      <td>4</td>\n",
       "      <td>YES</td>\n",
       "      <td>71</td>\n",
       "      <td>96</td>\n",
       "      <td>3</td>\n",
       "      <td>72</td>\n",
       "      <td>4</td>\n",
       "      <td>3510</td>\n",
       "      <td>D</td>\n",
       "    </tr>\n",
       "    <tr>\n",
       "      <th>2</th>\n",
       "      <td>3</td>\n",
       "      <td>324</td>\n",
       "      <td>7</td>\n",
       "      <td>5</td>\n",
       "      <td>4</td>\n",
       "      <td>5</td>\n",
       "      <td>YES</td>\n",
       "      <td>101</td>\n",
       "      <td>117</td>\n",
       "      <td>5</td>\n",
       "      <td>64</td>\n",
       "      <td>3</td>\n",
       "      <td>3748</td>\n",
       "      <td>C</td>\n",
       "    </tr>\n",
       "    <tr>\n",
       "      <th>3</th>\n",
       "      <td>4</td>\n",
       "      <td>330</td>\n",
       "      <td>6</td>\n",
       "      <td>4</td>\n",
       "      <td>3</td>\n",
       "      <td>5</td>\n",
       "      <td>YES</td>\n",
       "      <td>101</td>\n",
       "      <td>82</td>\n",
       "      <td>2</td>\n",
       "      <td>59</td>\n",
       "      <td>2</td>\n",
       "      <td>3134</td>\n",
       "      <td>D</td>\n",
       "    </tr>\n",
       "    <tr>\n",
       "      <th>4</th>\n",
       "      <td>5</td>\n",
       "      <td>320</td>\n",
       "      <td>7</td>\n",
       "      <td>4</td>\n",
       "      <td>4</td>\n",
       "      <td>5</td>\n",
       "      <td>NO</td>\n",
       "      <td>0</td>\n",
       "      <td>75</td>\n",
       "      <td>3</td>\n",
       "      <td>40</td>\n",
       "      <td>1</td>\n",
       "      <td>3843</td>\n",
       "      <td>D</td>\n",
       "    </tr>\n",
       "    <tr>\n",
       "      <th>...</th>\n",
       "      <td>...</td>\n",
       "      <td>...</td>\n",
       "      <td>...</td>\n",
       "      <td>...</td>\n",
       "      <td>...</td>\n",
       "      <td>...</td>\n",
       "      <td>...</td>\n",
       "      <td>...</td>\n",
       "      <td>...</td>\n",
       "      <td>...</td>\n",
       "      <td>...</td>\n",
       "      <td>...</td>\n",
       "      <td>...</td>\n",
       "      <td>...</td>\n",
       "    </tr>\n",
       "    <tr>\n",
       "      <th>2995</th>\n",
       "      <td>2996</td>\n",
       "      <td>341</td>\n",
       "      <td>9</td>\n",
       "      <td>6</td>\n",
       "      <td>5</td>\n",
       "      <td>7</td>\n",
       "      <td>YES</td>\n",
       "      <td>95</td>\n",
       "      <td>115</td>\n",
       "      <td>5</td>\n",
       "      <td>90</td>\n",
       "      <td>2</td>\n",
       "      <td>4246</td>\n",
       "      <td>B</td>\n",
       "    </tr>\n",
       "    <tr>\n",
       "      <th>2996</th>\n",
       "      <td>2997</td>\n",
       "      <td>292</td>\n",
       "      <td>9</td>\n",
       "      <td>8</td>\n",
       "      <td>7</td>\n",
       "      <td>8</td>\n",
       "      <td>YES</td>\n",
       "      <td>116</td>\n",
       "      <td>87</td>\n",
       "      <td>7</td>\n",
       "      <td>97</td>\n",
       "      <td>4</td>\n",
       "      <td>3753</td>\n",
       "      <td>A</td>\n",
       "    </tr>\n",
       "    <tr>\n",
       "      <th>2997</th>\n",
       "      <td>2998</td>\n",
       "      <td>328</td>\n",
       "      <td>7</td>\n",
       "      <td>4</td>\n",
       "      <td>3</td>\n",
       "      <td>5</td>\n",
       "      <td>NO</td>\n",
       "      <td>0</td>\n",
       "      <td>78</td>\n",
       "      <td>5</td>\n",
       "      <td>95</td>\n",
       "      <td>6</td>\n",
       "      <td>3607</td>\n",
       "      <td>D</td>\n",
       "    </tr>\n",
       "    <tr>\n",
       "      <th>2998</th>\n",
       "      <td>2999</td>\n",
       "      <td>293</td>\n",
       "      <td>9</td>\n",
       "      <td>7</td>\n",
       "      <td>7</td>\n",
       "      <td>8</td>\n",
       "      <td>NO</td>\n",
       "      <td>0</td>\n",
       "      <td>78</td>\n",
       "      <td>7</td>\n",
       "      <td>51</td>\n",
       "      <td>3</td>\n",
       "      <td>4198</td>\n",
       "      <td>B</td>\n",
       "    </tr>\n",
       "    <tr>\n",
       "      <th>2999</th>\n",
       "      <td>3000</td>\n",
       "      <td>343</td>\n",
       "      <td>7</td>\n",
       "      <td>6</td>\n",
       "      <td>6</td>\n",
       "      <td>8</td>\n",
       "      <td>NO</td>\n",
       "      <td>0</td>\n",
       "      <td>108</td>\n",
       "      <td>5</td>\n",
       "      <td>95</td>\n",
       "      <td>3</td>\n",
       "      <td>4105</td>\n",
       "      <td>C</td>\n",
       "    </tr>\n",
       "  </tbody>\n",
       "</table>\n",
       "<p>3000 rows × 14 columns</p>\n",
       "</div>"
      ],
      "text/plain": [
       "        Id  Area(total)  Trooms  Nbedrooms  Nbwashrooms  Twashrooms roof  \\\n",
       "0        1          339       6          5            4           6   NO   \n",
       "1        2          358       5          4            3           4  YES   \n",
       "2        3          324       7          5            4           5  YES   \n",
       "3        4          330       6          4            3           5  YES   \n",
       "4        5          320       7          4            4           5   NO   \n",
       "...    ...          ...     ...        ...          ...         ...  ...   \n",
       "2995  2996          341       9          6            5           7  YES   \n",
       "2996  2997          292       9          8            7           8  YES   \n",
       "2997  2998          328       7          4            3           5   NO   \n",
       "2998  2999          293       9          7            7           8   NO   \n",
       "2999  3000          343       7          6            6           8   NO   \n",
       "\n",
       "      Roof(Area)  Lawn(Area)  Nfloors  API  ANB  Expected price Grade  \n",
       "0              0          76        2   79    6            3481     D  \n",
       "1             71          96        3   72    4            3510     D  \n",
       "2            101         117        5   64    3            3748     C  \n",
       "3            101          82        2   59    2            3134     D  \n",
       "4              0          75        3   40    1            3843     D  \n",
       "...          ...         ...      ...  ...  ...             ...   ...  \n",
       "2995          95         115        5   90    2            4246     B  \n",
       "2996         116          87        7   97    4            3753     A  \n",
       "2997           0          78        5   95    6            3607     D  \n",
       "2998           0          78        7   51    3            4198     B  \n",
       "2999           0         108        5   95    3            4105     C  \n",
       "\n",
       "[3000 rows x 14 columns]"
      ]
     },
     "execution_count": 2,
     "metadata": {},
     "output_type": "execute_result"
    }
   ],
   "source": [
    "df = pd.read_csv('DS3_C6_S2_Classification_HouseGrade_Data_Project.csv')\n",
    "df"
   ]
  },
  {
   "cell_type": "markdown",
   "id": "f7613974",
   "metadata": {},
   "source": [
    "*******************"
   ]
  },
  {
   "cell_type": "markdown",
   "id": "59c891b9",
   "metadata": {},
   "source": [
    "<div class=\"alert alert-info\"> <p style=\"text-align:center;\" >  <span style=\"font-size:28px\" > Data Preprocessing <span>  </div> <p>"
   ]
  },
  {
   "cell_type": "markdown",
   "id": "1ce6f891",
   "metadata": {},
   "source": [
    "<span style=\"font-size:28px\" ><mark> Knowing our dataset </mark> <span> "
   ]
  },
  {
   "cell_type": "code",
   "execution_count": 3,
   "id": "4306c557",
   "metadata": {},
   "outputs": [
    {
     "data": {
      "text/plain": [
       "(3000, 14)"
      ]
     },
     "execution_count": 3,
     "metadata": {},
     "output_type": "execute_result"
    }
   ],
   "source": [
    "df.shape"
   ]
  },
  {
   "cell_type": "code",
   "execution_count": 4,
   "id": "caacd5cd",
   "metadata": {},
   "outputs": [
    {
     "data": {
      "text/plain": [
       "2"
      ]
     },
     "execution_count": 4,
     "metadata": {},
     "output_type": "execute_result"
    }
   ],
   "source": [
    "df.ndim"
   ]
  },
  {
   "cell_type": "code",
   "execution_count": 5,
   "id": "b1b7b957",
   "metadata": {},
   "outputs": [
    {
     "name": "stdout",
     "output_type": "stream",
     "text": [
      "<class 'pandas.core.frame.DataFrame'>\n",
      "RangeIndex: 3000 entries, 0 to 2999\n",
      "Data columns (total 14 columns):\n",
      " #   Column          Non-Null Count  Dtype \n",
      "---  ------          --------------  ----- \n",
      " 0   Id              3000 non-null   int64 \n",
      " 1   Area(total)     3000 non-null   int64 \n",
      " 2   Trooms          3000 non-null   int64 \n",
      " 3   Nbedrooms       3000 non-null   int64 \n",
      " 4   Nbwashrooms     3000 non-null   int64 \n",
      " 5   Twashrooms      3000 non-null   int64 \n",
      " 6   roof            3000 non-null   object\n",
      " 7   Roof(Area)      3000 non-null   int64 \n",
      " 8   Lawn(Area)      3000 non-null   int64 \n",
      " 9   Nfloors         3000 non-null   int64 \n",
      " 10  API             3000 non-null   int64 \n",
      " 11  ANB             3000 non-null   int64 \n",
      " 12  Expected price  3000 non-null   int64 \n",
      " 13  Grade           3000 non-null   object\n",
      "dtypes: int64(12), object(2)\n",
      "memory usage: 328.2+ KB\n"
     ]
    }
   ],
   "source": [
    "df.info()"
   ]
  },
  {
   "cell_type": "code",
   "execution_count": 6,
   "id": "0ca0719b",
   "metadata": {},
   "outputs": [
    {
     "data": {
      "text/html": [
       "<div>\n",
       "<style scoped>\n",
       "    .dataframe tbody tr th:only-of-type {\n",
       "        vertical-align: middle;\n",
       "    }\n",
       "\n",
       "    .dataframe tbody tr th {\n",
       "        vertical-align: top;\n",
       "    }\n",
       "\n",
       "    .dataframe thead th {\n",
       "        text-align: right;\n",
       "    }\n",
       "</style>\n",
       "<table border=\"1\" class=\"dataframe\">\n",
       "  <thead>\n",
       "    <tr style=\"text-align: right;\">\n",
       "      <th></th>\n",
       "      <th>Id</th>\n",
       "      <th>Area(total)</th>\n",
       "      <th>Trooms</th>\n",
       "      <th>Nbedrooms</th>\n",
       "      <th>Nbwashrooms</th>\n",
       "      <th>Twashrooms</th>\n",
       "      <th>Roof(Area)</th>\n",
       "      <th>Lawn(Area)</th>\n",
       "      <th>Nfloors</th>\n",
       "      <th>API</th>\n",
       "      <th>ANB</th>\n",
       "      <th>Expected price</th>\n",
       "    </tr>\n",
       "  </thead>\n",
       "  <tbody>\n",
       "    <tr>\n",
       "      <th>count</th>\n",
       "      <td>3000.000000</td>\n",
       "      <td>3000.000000</td>\n",
       "      <td>3000.000000</td>\n",
       "      <td>3000.000000</td>\n",
       "      <td>3000.000000</td>\n",
       "      <td>3000.000000</td>\n",
       "      <td>3000.000000</td>\n",
       "      <td>3000.000000</td>\n",
       "      <td>3000.000000</td>\n",
       "      <td>3000.000000</td>\n",
       "      <td>3000.00000</td>\n",
       "      <td>3000.000000</td>\n",
       "    </tr>\n",
       "    <tr>\n",
       "      <th>mean</th>\n",
       "      <td>1500.500000</td>\n",
       "      <td>325.117000</td>\n",
       "      <td>7.021667</td>\n",
       "      <td>5.023000</td>\n",
       "      <td>4.513667</td>\n",
       "      <td>6.010667</td>\n",
       "      <td>48.980667</td>\n",
       "      <td>95.609333</td>\n",
       "      <td>4.013333</td>\n",
       "      <td>70.190667</td>\n",
       "      <td>3.47900</td>\n",
       "      <td>3782.938333</td>\n",
       "    </tr>\n",
       "    <tr>\n",
       "      <th>std</th>\n",
       "      <td>866.169729</td>\n",
       "      <td>20.507742</td>\n",
       "      <td>1.421221</td>\n",
       "      <td>1.634838</td>\n",
       "      <td>1.715263</td>\n",
       "      <td>1.786136</td>\n",
       "      <td>48.746641</td>\n",
       "      <td>14.837388</td>\n",
       "      <td>1.621532</td>\n",
       "      <td>17.563460</td>\n",
       "      <td>1.69426</td>\n",
       "      <td>567.189995</td>\n",
       "    </tr>\n",
       "    <tr>\n",
       "      <th>min</th>\n",
       "      <td>1.000000</td>\n",
       "      <td>290.000000</td>\n",
       "      <td>5.000000</td>\n",
       "      <td>2.000000</td>\n",
       "      <td>1.000000</td>\n",
       "      <td>2.000000</td>\n",
       "      <td>0.000000</td>\n",
       "      <td>70.000000</td>\n",
       "      <td>1.000000</td>\n",
       "      <td>40.000000</td>\n",
       "      <td>1.00000</td>\n",
       "      <td>2504.000000</td>\n",
       "    </tr>\n",
       "    <tr>\n",
       "      <th>25%</th>\n",
       "      <td>750.750000</td>\n",
       "      <td>308.000000</td>\n",
       "      <td>6.000000</td>\n",
       "      <td>4.000000</td>\n",
       "      <td>3.000000</td>\n",
       "      <td>5.000000</td>\n",
       "      <td>0.000000</td>\n",
       "      <td>83.000000</td>\n",
       "      <td>3.000000</td>\n",
       "      <td>55.000000</td>\n",
       "      <td>2.00000</td>\n",
       "      <td>3354.000000</td>\n",
       "    </tr>\n",
       "    <tr>\n",
       "      <th>50%</th>\n",
       "      <td>1500.500000</td>\n",
       "      <td>325.000000</td>\n",
       "      <td>7.000000</td>\n",
       "      <td>5.000000</td>\n",
       "      <td>4.000000</td>\n",
       "      <td>6.000000</td>\n",
       "      <td>71.000000</td>\n",
       "      <td>96.000000</td>\n",
       "      <td>4.000000</td>\n",
       "      <td>70.000000</td>\n",
       "      <td>4.00000</td>\n",
       "      <td>3771.000000</td>\n",
       "    </tr>\n",
       "    <tr>\n",
       "      <th>75%</th>\n",
       "      <td>2250.250000</td>\n",
       "      <td>343.000000</td>\n",
       "      <td>8.000000</td>\n",
       "      <td>6.000000</td>\n",
       "      <td>6.000000</td>\n",
       "      <td>7.000000</td>\n",
       "      <td>96.000000</td>\n",
       "      <td>109.000000</td>\n",
       "      <td>5.000000</td>\n",
       "      <td>85.000000</td>\n",
       "      <td>5.00000</td>\n",
       "      <td>4208.000000</td>\n",
       "    </tr>\n",
       "    <tr>\n",
       "      <th>max</th>\n",
       "      <td>3000.000000</td>\n",
       "      <td>360.000000</td>\n",
       "      <td>9.000000</td>\n",
       "      <td>8.000000</td>\n",
       "      <td>8.000000</td>\n",
       "      <td>10.000000</td>\n",
       "      <td>120.000000</td>\n",
       "      <td>120.000000</td>\n",
       "      <td>7.000000</td>\n",
       "      <td>100.000000</td>\n",
       "      <td>6.00000</td>\n",
       "      <td>5216.000000</td>\n",
       "    </tr>\n",
       "  </tbody>\n",
       "</table>\n",
       "</div>"
      ],
      "text/plain": [
       "                Id  Area(total)       Trooms    Nbedrooms  Nbwashrooms  \\\n",
       "count  3000.000000  3000.000000  3000.000000  3000.000000  3000.000000   \n",
       "mean   1500.500000   325.117000     7.021667     5.023000     4.513667   \n",
       "std     866.169729    20.507742     1.421221     1.634838     1.715263   \n",
       "min       1.000000   290.000000     5.000000     2.000000     1.000000   \n",
       "25%     750.750000   308.000000     6.000000     4.000000     3.000000   \n",
       "50%    1500.500000   325.000000     7.000000     5.000000     4.000000   \n",
       "75%    2250.250000   343.000000     8.000000     6.000000     6.000000   \n",
       "max    3000.000000   360.000000     9.000000     8.000000     8.000000   \n",
       "\n",
       "        Twashrooms   Roof(Area)   Lawn(Area)      Nfloors          API  \\\n",
       "count  3000.000000  3000.000000  3000.000000  3000.000000  3000.000000   \n",
       "mean      6.010667    48.980667    95.609333     4.013333    70.190667   \n",
       "std       1.786136    48.746641    14.837388     1.621532    17.563460   \n",
       "min       2.000000     0.000000    70.000000     1.000000    40.000000   \n",
       "25%       5.000000     0.000000    83.000000     3.000000    55.000000   \n",
       "50%       6.000000    71.000000    96.000000     4.000000    70.000000   \n",
       "75%       7.000000    96.000000   109.000000     5.000000    85.000000   \n",
       "max      10.000000   120.000000   120.000000     7.000000   100.000000   \n",
       "\n",
       "              ANB  Expected price  \n",
       "count  3000.00000     3000.000000  \n",
       "mean      3.47900     3782.938333  \n",
       "std       1.69426      567.189995  \n",
       "min       1.00000     2504.000000  \n",
       "25%       2.00000     3354.000000  \n",
       "50%       4.00000     3771.000000  \n",
       "75%       5.00000     4208.000000  \n",
       "max       6.00000     5216.000000  "
      ]
     },
     "execution_count": 6,
     "metadata": {},
     "output_type": "execute_result"
    }
   ],
   "source": [
    "df.describe()"
   ]
  },
  {
   "cell_type": "code",
   "execution_count": 7,
   "id": "5617c308",
   "metadata": {},
   "outputs": [
    {
     "name": "stdout",
     "output_type": "stream",
     "text": [
      "Categorical    Numerical\n",
      "-------------  --------------\n",
      "roof           Id\n",
      "Grade          Area(total)\n",
      "               Trooms\n",
      "               Nbedrooms\n",
      "               Nbwashrooms\n",
      "               Twashrooms\n",
      "               Roof(Area)\n",
      "               Lawn(Area)\n",
      "               Nfloors\n",
      "               API\n",
      "               ANB\n",
      "               Expected price\n"
     ]
    }
   ],
   "source": [
    "from tabulate import tabulate\n",
    "\n",
    "a = df.select_dtypes(exclude='object')\n",
    "b = df.select_dtypes(include='object')\n",
    "\n",
    "a_lst=list(a.columns)\n",
    "b_lst=list(b.columns)\n",
    "\n",
    "print(tabulate({'categorical':b_lst,'numerical':a_lst},headers = ['Categorical','Numerical']))"
   ]
  },
  {
   "cell_type": "code",
   "execution_count": 8,
   "id": "102710dc",
   "metadata": {},
   "outputs": [
    {
     "data": {
      "text/plain": [
       "array(['D', 'C', 'B', 'A', 'E'], dtype=object)"
      ]
     },
     "execution_count": 8,
     "metadata": {},
     "output_type": "execute_result"
    }
   ],
   "source": [
    "df['Grade'].unique()"
   ]
  },
  {
   "cell_type": "code",
   "execution_count": 9,
   "id": "f9a3f870",
   "metadata": {},
   "outputs": [
    {
     "data": {
      "text/plain": [
       "D    1270\n",
       "C     716\n",
       "B     539\n",
       "A     399\n",
       "E      76\n",
       "Name: Grade, dtype: int64"
      ]
     },
     "execution_count": 9,
     "metadata": {},
     "output_type": "execute_result"
    }
   ],
   "source": [
    "df['Grade'].value_counts()"
   ]
  },
  {
   "cell_type": "markdown",
   "id": "5492361d",
   "metadata": {},
   "source": [
    " ><span style=\"font-size:18px\" > We have 5 unique classes in our dataset : A,B,C,D and E"
   ]
  },
  {
   "cell_type": "markdown",
   "id": "eca204c8",
   "metadata": {},
   "source": [
    "****************"
   ]
  },
  {
   "cell_type": "markdown",
   "id": "eef9519e",
   "metadata": {},
   "source": [
    "<span style=\"font-size:28px\" ><mark>  Identifying and handling the missing values </mark> <span>"
   ]
  },
  {
   "cell_type": "code",
   "execution_count": 10,
   "id": "b2719df3",
   "metadata": {},
   "outputs": [
    {
     "data": {
      "text/plain": [
       "Id                0\n",
       "Area(total)       0\n",
       "Trooms            0\n",
       "Nbedrooms         0\n",
       "Nbwashrooms       0\n",
       "Twashrooms        0\n",
       "roof              0\n",
       "Roof(Area)        0\n",
       "Lawn(Area)        0\n",
       "Nfloors           0\n",
       "API               0\n",
       "ANB               0\n",
       "Expected price    0\n",
       "Grade             0\n",
       "dtype: int64"
      ]
     },
     "execution_count": 10,
     "metadata": {},
     "output_type": "execute_result"
    }
   ],
   "source": [
    "df.isnull().sum()"
   ]
  },
  {
   "cell_type": "markdown",
   "id": "00e9a2ae",
   "metadata": {},
   "source": [
    " ><span style=\"font-size:18px\" >No missing values present in our dataset"
   ]
  },
  {
   "cell_type": "markdown",
   "id": "876e9db7",
   "metadata": {},
   "source": [
    "*******************"
   ]
  },
  {
   "cell_type": "markdown",
   "id": "121ddd60",
   "metadata": {},
   "source": [
    "<span style=\"font-size:28px\" ><mark>  Visual EDA  </mark> <span> "
   ]
  },
  {
   "cell_type": "code",
   "execution_count": 11,
   "id": "97b71aab",
   "metadata": {},
   "outputs": [],
   "source": [
    "import matplotlib.pyplot as plt\n",
    "import seaborn as sb"
   ]
  },
  {
   "cell_type": "code",
   "execution_count": 12,
   "id": "90ec5f81",
   "metadata": {},
   "outputs": [
    {
     "data": {
      "image/png": "[encoded data removed]",
      "text/plain": [
       "<Figure size 1800x720 with 1 Axes>"
      ]
     },
     "metadata": {
      "needs_background": "light"
     },
     "output_type": "display_data"
    }
   ],
   "source": [
    "plt.figure(figsize=(25,10))\n",
    "plt.title(' Grade vs Price ',fontsize=16)\n",
    "sb.boxplot(x= 'Grade', data = df , y = 'Expected price' , showmeans = True ,palette = 'rainbow' ) \n",
    "plt.show()"
   ]
  },
  {
   "cell_type": "markdown",
   "id": "6e41b71f",
   "metadata": {},
   "source": [
    " ><span style=\"font-size:18px\" >We can see that the first label that is class A has the highest range and wider spread of expected price and D being the lowest of all.\n",
    "    We all see above in unqiue counts that D has the most count which can mean that is low priced because they may be less diserable."
   ]
  },
  {
   "cell_type": "code",
   "execution_count": 13,
   "id": "6967e891",
   "metadata": {},
   "outputs": [
    {
     "data": {
      "image/png": "[encoded data removed]",
      "text/plain": [
       "<Figure size 1800x720 with 1 Axes>"
      ]
     },
     "metadata": {
      "needs_background": "light"
     },
     "output_type": "display_data"
    }
   ],
   "source": [
    "plt.figure(figsize=(25,10))\n",
    "plt.title(' Grade vs Area ',fontsize=16)\n",
    "sb.boxplot(x= 'Grade', data = df , y = 'Area(total)' , showmeans = True ,palette = 'rainbow' ) \n",
    "plt.show()"
   ]
  },
  {
   "cell_type": "markdown",
   "id": "c9aeccea",
   "metadata": {},
   "source": [
    " ><span style=\"font-size:18px\" >We see grade B has the wider spread of area while Grade A and C are very similar in terms of spread and range and average area."
   ]
  },
  {
   "cell_type": "code",
   "execution_count": 14,
   "id": "3b015f57",
   "metadata": {},
   "outputs": [
    {
     "data": {
      "image/png": "[encoded data removed]",
      "text/plain": [
       "<Figure size 1800x720 with 1 Axes>"
      ]
     },
     "metadata": {
      "needs_background": "light"
     },
     "output_type": "display_data"
    }
   ],
   "source": [
    "plt.figure(figsize=(25,10))\n",
    "plt.title(' Grade vs Count ',fontsize=16)\n",
    "sb.countplot(x= 'Grade', data = df ,palette = 'rainbow' ) \n",
    "plt.show()"
   ]
  },
  {
   "cell_type": "markdown",
   "id": "4dbb23a9",
   "metadata": {},
   "source": [
    " ><span style=\"font-size:18px\" >We can see that the Grade D has the most number of houses on the market as compared to the other grades with grade E having the least listings"
   ]
  },
  {
   "cell_type": "markdown",
   "id": "152fcf70",
   "metadata": {},
   "source": [
    "********************"
   ]
  },
  {
   "cell_type": "markdown",
   "id": "1c203480",
   "metadata": {},
   "source": [
    "<span style=\"font-size:28px\" ><mark>  Encoding our categorical data to numeric data </mark> <span> "
   ]
  },
  {
   "cell_type": "code",
   "execution_count": 15,
   "id": "3402f5d5",
   "metadata": {},
   "outputs": [],
   "source": [
    "from sklearn import preprocessing   \n",
    "label_encoder = preprocessing.LabelEncoder()  "
   ]
  },
  {
   "cell_type": "code",
   "execution_count": 16,
   "id": "aaffa954",
   "metadata": {},
   "outputs": [],
   "source": [
    "columns = df.columns\n",
    "\n",
    "for col in columns:\n",
    "    a = df[col].dtype\n",
    "    if a == 'object':\n",
    "        df[col]=df[col].astype('category')\n",
    "\n",
    "for col in columns:\n",
    "    a = df[col].dtype\n",
    "    if a == 'category':\n",
    "        df[col]=label_encoder.fit_transform(df[col])"
   ]
  },
  {
   "cell_type": "code",
   "execution_count": 17,
   "id": "c9ace4d7",
   "metadata": {},
   "outputs": [
    {
     "data": {
      "text/plain": [
       "Id                int64\n",
       "Area(total)       int64\n",
       "Trooms            int64\n",
       "Nbedrooms         int64\n",
       "Nbwashrooms       int64\n",
       "Twashrooms        int64\n",
       "roof              int64\n",
       "Roof(Area)        int64\n",
       "Lawn(Area)        int64\n",
       "Nfloors           int64\n",
       "API               int64\n",
       "ANB               int64\n",
       "Expected price    int64\n",
       "Grade             int64\n",
       "dtype: object"
      ]
     },
     "execution_count": 17,
     "metadata": {},
     "output_type": "execute_result"
    }
   ],
   "source": [
    "df.dtypes"
   ]
  },
  {
   "cell_type": "code",
   "execution_count": 18,
   "id": "db14dfbd",
   "metadata": {},
   "outputs": [
    {
     "data": {
      "text/plain": [
       "array([3, 2, 1, 0, 4])"
      ]
     },
     "execution_count": 18,
     "metadata": {},
     "output_type": "execute_result"
    }
   ],
   "source": [
    "df['Grade'].unique()"
   ]
  },
  {
   "cell_type": "markdown",
   "id": "dd25371b",
   "metadata": {},
   "source": [
    "****************"
   ]
  },
  {
   "cell_type": "markdown",
   "id": "d7b74808",
   "metadata": {},
   "source": [
    "<span style=\"font-size:28px\" ><mark>  Correlation </mark> <span> "
   ]
  },
  {
   "cell_type": "code",
   "execution_count": 19,
   "id": "179a1b72",
   "metadata": {},
   "outputs": [
    {
     "data": {
      "image/png": "[encoded data removed]",
      "text/plain": [
       "<Figure size 1080x360 with 2 Axes>"
      ]
     },
     "metadata": {
      "needs_background": "light"
     },
     "output_type": "display_data"
    }
   ],
   "source": [
    "plt.figure(figsize=(15,5))\n",
    "corr = abs(df.corr())\n",
    "heat_map = sb.heatmap(abs(corr), annot = True)\n",
    "heat_map.set(title = \"Correlation Matrix \")\n",
    "plt.show()"
   ]
  },
  {
   "cell_type": "code",
   "execution_count": 20,
   "id": "886036f7",
   "metadata": {},
   "outputs": [
    {
     "data": {
      "text/plain": [
       "Grade             1.000000\n",
       "Trooms            0.875145\n",
       "Nbedrooms         0.865389\n",
       "Nbwashrooms       0.847319\n",
       "Twashrooms        0.819280\n",
       "Nfloors           0.787623\n",
       "Expected price    0.760820\n",
       "Area(total)       0.177332\n",
       "Roof(Area)        0.170259\n",
       "roof              0.166635\n",
       "API               0.099000\n",
       "Lawn(Area)        0.051200\n",
       "ANB               0.024025\n",
       "Id                0.006074\n",
       "Name: Grade, dtype: float64"
      ]
     },
     "execution_count": 20,
     "metadata": {},
     "output_type": "execute_result"
    }
   ],
   "source": [
    "corr['Grade'].sort_values(ascending=False)"
   ]
  },
  {
   "cell_type": "markdown",
   "id": "c74e885e",
   "metadata": {},
   "source": [
    " ><span style=\"font-size:18px\" > We can see the features and their correlation with the Grades and eslabiosh what impact these features have on the Grade of the house."
   ]
  },
  {
   "cell_type": "markdown",
   "id": "ab70d946",
   "metadata": {},
   "source": [
    "*****************"
   ]
  },
  {
   "cell_type": "markdown",
   "id": "60eb71f3",
   "metadata": {},
   "source": [
    "<span style=\"font-size:28px\" ><mark>  Data Spliting </mark> <span> "
   ]
  },
  {
   "cell_type": "code",
   "execution_count": 21,
   "id": "76603f99",
   "metadata": {},
   "outputs": [],
   "source": [
    "X = df.iloc[:, 0:13].values\n",
    "y = df.iloc[:, 13].values"
   ]
  },
  {
   "cell_type": "code",
   "execution_count": 22,
   "id": "95c3492f",
   "metadata": {},
   "outputs": [],
   "source": [
    "from sklearn.model_selection import train_test_split\n",
    "\n",
    "X_train, X_test, y_train, y_test = train_test_split(X, y, test_size=0.2, random_state=10)"
   ]
  },
  {
   "cell_type": "markdown",
   "id": "46e67d61",
   "metadata": {},
   "source": [
    "***************"
   ]
  },
  {
   "cell_type": "markdown",
   "id": "7fb1c6eb",
   "metadata": {},
   "source": [
    "<span style=\"font-size:28px\" ><mark>  Data Scaling </mark> <span> "
   ]
  },
  {
   "cell_type": "code",
   "execution_count": 23,
   "id": "a5d3dcf5",
   "metadata": {},
   "outputs": [],
   "source": [
    "from sklearn.preprocessing import StandardScaler\n",
    "\n",
    "sc = StandardScaler()\n",
    "x_train = sc.fit_transform(X_train)\n",
    "x_test = sc.transform(X_test)"
   ]
  },
  {
   "cell_type": "markdown",
   "id": "9f66eee6",
   "metadata": {},
   "source": [
    "**********************"
   ]
  },
  {
   "cell_type": "markdown",
   "id": "8f7a7e58",
   "metadata": {},
   "source": [
    "<span style=\"font-size:28px\" ><mark>  Dimension Reduction </mark> <span> "
   ]
  },
  {
   "cell_type": "markdown",
   "id": "bf910f2e",
   "metadata": {},
   "source": [
    "## LDA"
   ]
  },
  {
   "cell_type": "code",
   "execution_count": 24,
   "id": "62a315de",
   "metadata": {},
   "outputs": [],
   "source": [
    "from sklearn.discriminant_analysis import LinearDiscriminantAnalysis as LDA\n",
    "\n",
    "lda = LDA(n_components= 4)\n",
    "x_train = lda.fit_transform(X_train, y_train)\n",
    "x_test = lda.transform(X_test)"
   ]
  },
  {
   "cell_type": "markdown",
   "id": "fcda314c",
   "metadata": {},
   "source": [
    " ><span style=\"font-size:18px\" > I have tried LDA as this is a supervised learning model and beacause we want to seperate our classes in a way to predict them easily."
   ]
  },
  {
   "cell_type": "markdown",
   "id": "0ac40604",
   "metadata": {},
   "source": [
    "******************"
   ]
  },
  {
   "cell_type": "markdown",
   "id": "cc47bd41",
   "metadata": {},
   "source": [
    "<div class=\"alert alert-info\"> <p style=\"text-align:center;\" >  <span style=\"font-size:28px\" > Model Building <span>  </div> <p>"
   ]
  },
  {
   "cell_type": "markdown",
   "id": "0c57d8b9",
   "metadata": {},
   "source": [
    "## Since this is a Classification problem we will be trying different classification algorithms to see which model gives us the best results.\n",
    "\n",
    "### We will also try PCA and LDA for dimension reductionality to see which works better for particular models and gives us better results.\n",
    "\n",
    "&#10148; Naive Bayes </br>\n",
    "&#10148; Random Forest Classifier</br>\n",
    "&#10148; Decision Tree</br>\n",
    "&#10148; K NearestNeighbours Classifier\n",
    "\n",
    "### We will build our model, evaluate and compare the model to find the best fit algortihm for this dataset."
   ]
  },
  {
   "cell_type": "markdown",
   "id": "99518c31",
   "metadata": {},
   "source": [
    "********************"
   ]
  },
  {
   "cell_type": "markdown",
   "id": "5c460bea",
   "metadata": {},
   "source": [
    "<span style=\"font-size:28px\" ><mark>  Naive Bayes </mark> <span> "
   ]
  },
  {
   "cell_type": "markdown",
   "id": "52133979",
   "metadata": {},
   "source": [
    "### Loading the needed Libraries"
   ]
  },
  {
   "cell_type": "code",
   "execution_count": 25,
   "id": "f4aa5f4f",
   "metadata": {},
   "outputs": [],
   "source": [
    "from sklearn.naive_bayes import GaussianNB \n",
    "from sklearn.tree import DecisionTreeClassifier"
   ]
  },
  {
   "cell_type": "markdown",
   "id": "62791672",
   "metadata": {},
   "source": [
    "### Building and fitting the model"
   ]
  },
  {
   "cell_type": "code",
   "execution_count": 26,
   "id": "65b74b3c",
   "metadata": {
    "scrolled": true
   },
   "outputs": [
    {
     "data": {
      "text/plain": [
       "GaussianNB()"
      ]
     },
     "execution_count": 26,
     "metadata": {},
     "output_type": "execute_result"
    }
   ],
   "source": [
    "naive_bayes = GaussianNB()  \n",
    "naive_bayes.fit(x_train, y_train)"
   ]
  },
  {
   "cell_type": "markdown",
   "id": "a2cfe367",
   "metadata": {},
   "source": [
    "### Predictions "
   ]
  },
  {
   "cell_type": "code",
   "execution_count": 27,
   "id": "5e157d37",
   "metadata": {},
   "outputs": [
    {
     "data": {
      "text/plain": [
       "array([3, 3, 2, 3, 1, 3, 3, 3, 3, 3, 3, 2, 0, 0, 2, 2, 2, 2, 3, 2, 3, 3,\n",
       "       3, 3, 2, 2, 0, 3, 3, 0, 3, 3, 0, 2, 3, 3, 3, 3, 0, 1, 3, 1, 0, 0,\n",
       "       1, 3, 3, 3, 3, 3, 1, 0, 3, 1, 3, 3, 3, 0, 0, 3, 1, 2, 2, 3, 2, 3,\n",
       "       2, 3, 1, 4, 2, 3, 2, 1, 2, 1, 2, 2, 1, 3, 2, 1, 0, 3, 3, 3, 3, 2,\n",
       "       1, 1, 3, 3, 2, 3, 2, 3, 2, 0, 2, 3, 2, 3, 3, 1, 1, 0, 0, 3, 3, 2,\n",
       "       2, 1, 3, 2, 0, 4, 3, 3, 3, 3, 3, 3, 2, 3, 0, 3, 3, 2, 2, 0, 1, 3,\n",
       "       2, 2, 2, 0, 3, 2, 3, 3, 2, 1, 2, 3, 2, 3, 3, 1, 2, 3, 2, 2, 3, 2,\n",
       "       3, 1, 2, 2, 3, 2, 2, 3, 1, 1, 3, 3, 3, 3, 3, 2, 3, 2, 2, 0, 1, 3,\n",
       "       3, 3, 3, 2, 3, 0, 0, 2, 3, 3, 2, 0, 1, 3, 3, 2, 3, 4, 0, 3, 3, 4,\n",
       "       3, 3, 0, 1, 3, 2, 3, 0, 3, 2, 1, 3, 2, 2, 2, 3, 2, 3, 1, 3, 0, 2,\n",
       "       3, 3, 1, 2, 2, 1, 3, 3, 3, 2, 2, 3, 1, 3, 3, 3, 1, 2, 3, 2, 3, 0,\n",
       "       2, 2, 2, 2, 1, 3, 3, 3, 1, 3, 2, 1, 3, 3, 3, 1, 3, 1, 0, 2, 3, 3,\n",
       "       1, 3, 2, 1, 3, 2, 1, 3, 2, 3, 2, 0, 2, 2, 3, 3, 0, 3, 2, 4, 4, 0,\n",
       "       3, 0, 2, 3, 3, 2, 3, 3, 3, 1, 2, 2, 3, 0, 3, 1, 1, 2, 1, 0, 1, 3,\n",
       "       3, 0, 3, 3, 4, 0, 3, 1, 3, 1, 2, 2, 1, 3, 3, 1, 1, 0, 3, 3, 1, 3,\n",
       "       2, 2, 3, 2, 0, 3, 0, 1, 1, 2, 2, 2, 3, 3, 2, 3, 3, 2, 3, 3, 1, 3,\n",
       "       2, 1, 2, 3, 3, 0, 2, 2, 3, 3, 2, 0, 3, 1, 2, 1, 2, 0, 2, 2, 1, 3,\n",
       "       3, 4, 4, 3, 4, 2, 3, 2, 1, 1, 1, 1, 1, 3, 3, 3, 2, 2, 2, 2, 3, 3,\n",
       "       1, 3, 3, 1, 1, 0, 3, 2, 0, 3, 1, 2, 3, 3, 0, 2, 1, 2, 2, 2, 2, 3,\n",
       "       2, 4, 1, 2, 3, 3, 3, 3, 0, 3, 1, 1, 3, 3, 3, 1, 0, 2, 1, 4, 3, 3,\n",
       "       3, 3, 2, 3, 3, 3, 3, 2, 1, 3, 3, 3, 3, 0, 1, 3, 0, 3, 0, 2, 3, 3,\n",
       "       1, 0, 0, 3, 1, 3, 3, 2, 3, 1, 0, 2, 3, 3, 3, 1, 3, 3, 2, 2, 2, 3,\n",
       "       3, 2, 2, 2, 1, 2, 2, 4, 3, 3, 0, 3, 1, 3, 2, 2, 3, 0, 1, 2, 3, 2,\n",
       "       0, 1, 1, 3, 3, 1, 1, 1, 3, 0, 2, 1, 2, 0, 1, 3, 0, 0, 3, 1, 2, 3,\n",
       "       3, 3, 1, 1, 1, 3, 3, 3, 3, 1, 3, 1, 1, 3, 2, 3, 2, 1, 3, 4, 3, 2,\n",
       "       0, 3, 3, 1, 1, 2, 1, 3, 3, 3, 3, 3, 1, 2, 3, 3, 3, 2, 2, 3, 1, 1,\n",
       "       1, 3, 1, 2, 0, 3, 2, 2, 2, 3, 2, 3, 2, 2, 3, 2, 3, 3, 0, 1, 3, 3,\n",
       "       4, 2, 3, 0, 3, 1])"
      ]
     },
     "execution_count": 27,
     "metadata": {},
     "output_type": "execute_result"
    }
   ],
   "source": [
    "y_pred_test_nb = naive_bayes.predict(x_test)\n",
    "y_pred_test_nb"
   ]
  },
  {
   "cell_type": "markdown",
   "id": "8d17d45a",
   "metadata": {},
   "source": [
    "### Visualization"
   ]
  },
  {
   "cell_type": "code",
   "execution_count": 28,
   "id": "485dd0fb",
   "metadata": {},
   "outputs": [
    {
     "data": {
      "text/plain": [
       "<matplotlib.collections.PathCollection at 0x7fc5dc4f77c0>"
      ]
     },
     "execution_count": 28,
     "metadata": {},
     "output_type": "execute_result"
    },
    {
     "data": {
      "image/png": "[encoded data removed]",
      "text/plain": [
       "<Figure size 1080x360 with 1 Axes>"
      ]
     },
     "metadata": {
      "needs_background": "light"
     },
     "output_type": "display_data"
    }
   ],
   "source": [
    "plt.figure(figsize=(15,5))\n",
    "plt.title('Actual Vs Predicted - Naiyes Bayes')\n",
    "x = np.arange(len(y_test[:100]))\n",
    "plt.scatter(x,y_test[:100],label='Actual',color='b')\n",
    "plt.scatter(x,y_pred_test_nb[:100],label='Predicted',color='pink')"
   ]
  },
  {
   "cell_type": "code",
   "execution_count": 29,
   "id": "90149e5c",
   "metadata": {},
   "outputs": [
    {
     "data": {
      "text/plain": [
       "<matplotlib.collections.PathCollection at 0x7fc5db7fddf0>"
      ]
     },
     "execution_count": 29,
     "metadata": {},
     "output_type": "execute_result"
    },
    {
     "data": {
      "image/png": "[encoded data removed]",
      "text/plain": [
       "<Figure size 1080x360 with 2 Axes>"
      ]
     },
     "metadata": {
      "needs_background": "light"
     },
     "output_type": "display_data"
    }
   ],
   "source": [
    "plt.figure(figsize=(15,5))\n",
    "plt.subplot(121)\n",
    "plt.title('Actual')\n",
    "plt.scatter(x,y_test[:100],color='b')\n",
    "plt.subplot(122)\n",
    "plt.title('Predicted')\n",
    "plt.scatter(x,y_pred_test_nb[:100],color='pink')"
   ]
  },
  {
   "cell_type": "code",
   "execution_count": 30,
   "id": "f62589a9",
   "metadata": {},
   "outputs": [
    {
     "data": {
      "text/plain": [
       "array([3, 3, 2, 3, 1, 3, 3, 3, 3, 3, 3, 2, 0, 0, 2, 2, 2, 2, 3, 2, 3, 3,\n",
       "       3, 3, 2, 2, 0, 3, 3, 1, 3, 3, 0, 2, 3, 3, 3, 3, 0, 1, 3, 1, 0, 1,\n",
       "       1, 3, 3, 3, 3, 3, 1, 1, 3, 1, 3, 3, 3, 0, 1, 3, 2, 2, 2, 3, 2, 3,\n",
       "       2, 3, 1, 4, 2, 3, 2, 1, 2, 1, 2, 2, 1, 3, 2, 1, 0, 4, 3, 3, 3, 2,\n",
       "       1, 2, 3, 3, 2, 3, 2, 3, 2, 0, 2, 3])"
      ]
     },
     "execution_count": 30,
     "metadata": {},
     "output_type": "execute_result"
    }
   ],
   "source": [
    "y_test[:100]"
   ]
  },
  {
   "cell_type": "markdown",
   "id": "fd38d09f",
   "metadata": {},
   "source": [
    "### Confusion Matrix "
   ]
  },
  {
   "cell_type": "markdown",
   "id": "10d1f4e0",
   "metadata": {},
   "source": [
    "x is the Predicted Label \n",
    "y is the Actual label"
   ]
  },
  {
   "cell_type": "code",
   "execution_count": 31,
   "id": "f2260dab",
   "metadata": {
    "scrolled": true
   },
   "outputs": [
    {
     "data": {
      "image/png": "[encoded data removed]",
      "text/plain": [
       "<Figure size 432x288 with 2 Axes>"
      ]
     },
     "metadata": {
      "needs_background": "light"
     },
     "output_type": "display_data"
    }
   ],
   "source": [
    "from sklearn.metrics import confusion_matrix\n",
    "\n",
    "cm = confusion_matrix(y_test, y_pred_test_nb)  \n",
    "\n",
    "ax= plt.subplot()\n",
    "sb.heatmap(cm, annot=True, fmt='g', ax=ax)\n",
    "\n",
    "ax.set_xlabel('Predicted labels');ax.set_ylabel('Actual labels'); \n",
    "ax.set_title('Confusion Matrix'); \n",
    "ax.xaxis.set_ticklabels(['A','B','C','D','E']); ax.yaxis.set_ticklabels(['A','B','C','D','E']);\n"
   ]
  },
  {
   "cell_type": "markdown",
   "id": "edc196d0",
   "metadata": {},
   "source": [
    "<span style=\"font-size:18px\" >We can see there are few wrongly predicted datapoints."
   ]
  },
  {
   "cell_type": "markdown",
   "id": "9011d11a",
   "metadata": {},
   "source": [
    "### Errors Evaluation"
   ]
  },
  {
   "cell_type": "code",
   "execution_count": 32,
   "id": "749d12ce",
   "metadata": {},
   "outputs": [],
   "source": [
    "from sklearn.metrics import recall_score\n",
    "from sklearn.metrics import f1_score\n",
    "from sklearn.metrics import accuracy_score\n",
    "from sklearn.metrics import precision_score\n",
    "as_nb = accuracy_score(y_test, y_pred_test_nb)\n",
    "rc_nb = recall_score(y_test, y_pred_test_nb, average='weighted')\n",
    "f1_nb = f1_score(y_test, y_pred_test_nb, average='weighted')\n",
    "pc_nb = precision_score(y_test, y_pred_test_nb,average='weighted')"
   ]
  },
  {
   "cell_type": "code",
   "execution_count": 33,
   "id": "e35cd1a8",
   "metadata": {},
   "outputs": [
    {
     "data": {
      "text/html": [
       "<div>\n",
       "<style scoped>\n",
       "    .dataframe tbody tr th:only-of-type {\n",
       "        vertical-align: middle;\n",
       "    }\n",
       "\n",
       "    .dataframe tbody tr th {\n",
       "        vertical-align: top;\n",
       "    }\n",
       "\n",
       "    .dataframe thead th {\n",
       "        text-align: right;\n",
       "    }\n",
       "</style>\n",
       "<table border=\"1\" class=\"dataframe\">\n",
       "  <thead>\n",
       "    <tr style=\"text-align: right;\">\n",
       "      <th></th>\n",
       "      <th>Model</th>\n",
       "      <th>Accuracy</th>\n",
       "      <th>Recall</th>\n",
       "      <th>F1-score</th>\n",
       "      <th>Precision</th>\n",
       "    </tr>\n",
       "  </thead>\n",
       "  <tbody>\n",
       "    <tr>\n",
       "      <th>0</th>\n",
       "      <td>Naive Bayes</td>\n",
       "      <td>0.916667</td>\n",
       "      <td>0.916667</td>\n",
       "      <td>0.915839</td>\n",
       "      <td>0.915953</td>\n",
       "    </tr>\n",
       "  </tbody>\n",
       "</table>\n",
       "</div>"
      ],
      "text/plain": [
       "         Model  Accuracy    Recall  F1-score  Precision\n",
       "0  Naive Bayes  0.916667  0.916667  0.915839   0.915953"
      ]
     },
     "execution_count": 33,
     "metadata": {},
     "output_type": "execute_result"
    }
   ],
   "source": [
    "compare = pd.DataFrame()\n",
    "\n",
    "compare['Model']=['Naive Bayes']\n",
    "compare['Accuracy']=[as_nb]\n",
    "compare['Recall']=[rc_nb]\n",
    "compare['F1-score']=[f1_nb]\n",
    "compare['Precision']=[pc_nb]\n",
    "\n",
    "compare"
   ]
  },
  {
   "cell_type": "markdown",
   "id": "06a11493",
   "metadata": {},
   "source": [
    "<span style=\"font-size:18px\" > We can see the evalution metric scores "
   ]
  },
  {
   "cell_type": "markdown",
   "id": "578250b8",
   "metadata": {},
   "source": [
    "***********************"
   ]
  },
  {
   "cell_type": "markdown",
   "id": "0c54aac4",
   "metadata": {},
   "source": [
    "<span style=\"font-size:28px\" ><mark>  Decision Tree With Hyperparameter Tuning </mark> <span> "
   ]
  },
  {
   "cell_type": "markdown",
   "id": "ddc40905",
   "metadata": {},
   "source": [
    "### Loading the libraries"
   ]
  },
  {
   "cell_type": "code",
   "execution_count": 34,
   "id": "567af9b1",
   "metadata": {},
   "outputs": [],
   "source": [
    "from sklearn.tree import DecisionTreeClassifier\n",
    "from sklearn.model_selection import  RepeatedStratifiedKFold,GridSearchCV\n",
    "import numpy as np"
   ]
  },
  {
   "cell_type": "markdown",
   "id": "d4fb75f4",
   "metadata": {},
   "source": [
    "### Performing Grid search to get best estimator "
   ]
  },
  {
   "cell_type": "code",
   "execution_count": 35,
   "id": "23c96efa",
   "metadata": {},
   "outputs": [
    {
     "name": "stdout",
     "output_type": "stream",
     "text": [
      "Fitting 15 folds for each of 14 candidates, totalling 210 fits\n",
      "\n",
      "Best Test Score :  0.9513888888888888\n",
      "\n",
      "Best Estimator :  DecisionTreeClassifier(max_depth=10)\n"
     ]
    }
   ],
   "source": [
    "\n",
    "\n",
    "cv = RepeatedStratifiedKFold(n_splits=5,n_repeats=3, random_state=10)\n",
    "\n",
    "param_grid = {'max_depth' : np.arange(1,15)}\n",
    "\n",
    "tree_clas = DecisionTreeClassifier()\n",
    "\n",
    "grid_search = GridSearchCV(estimator=tree_clas, param_grid=param_grid, cv=cv, verbose=True , error_score='raise')\n",
    "\n",
    "grid_search.fit(x_train, y_train)\n",
    "\n",
    "#best score of model\n",
    "test_score= grid_search.best_score_\n",
    "\n",
    "#Best score estimator\n",
    "best_est = grid_search.best_estimator_\n",
    "print()\n",
    "print(\"Best Test Score : \", test_score)\n",
    "print()\n",
    "print(\"Best Estimator : \", best_est)"
   ]
  },
  {
   "cell_type": "markdown",
   "id": "eea62c19",
   "metadata": {},
   "source": [
    "<span style=\"font-size:18px\" > We see the max_depth is 11."
   ]
  },
  {
   "cell_type": "markdown",
   "id": "596e052d",
   "metadata": {},
   "source": [
    "### Building and Fitting Decision Tree classifer model"
   ]
  },
  {
   "cell_type": "code",
   "execution_count": 36,
   "id": "c57bf738",
   "metadata": {},
   "outputs": [],
   "source": [
    "dt_model = DecisionTreeClassifier(max_depth=11).fit(x_train,y_train)"
   ]
  },
  {
   "cell_type": "markdown",
   "id": "f8060973",
   "metadata": {},
   "source": [
    "### Predictions"
   ]
  },
  {
   "cell_type": "code",
   "execution_count": 37,
   "id": "70f23524",
   "metadata": {},
   "outputs": [
    {
     "data": {
      "text/plain": [
       "array([3, 3, 2, 3, 1, 3, 3, 3, 3, 3, 3, 2, 0, 0, 1, 2, 2, 2, 3, 2, 3, 3,\n",
       "       3, 3, 2, 2, 0, 3, 3, 1, 3, 3, 0, 2, 3, 3, 3, 3, 0, 1, 3, 1, 0, 1,\n",
       "       1, 3, 3, 3, 3, 3, 1, 1, 3, 1, 3, 3, 3, 0, 1, 3, 1, 2, 2, 3, 2, 3,\n",
       "       2, 3, 1, 4, 3, 3, 2, 1, 2, 1, 2, 2, 1, 3, 2, 1, 0, 4, 3, 3, 3, 2,\n",
       "       1, 1, 3, 3, 2, 3, 2, 3, 2, 0, 2, 3, 2, 3, 3, 1, 1, 0, 0, 3, 3, 3,\n",
       "       2, 1, 3, 2, 0, 4, 3, 3, 2, 3, 3, 3, 2, 3, 0, 3, 3, 2, 2, 0, 1, 3,\n",
       "       2, 2, 2, 0, 3, 2, 3, 3, 2, 1, 2, 3, 2, 3, 3, 1, 2, 3, 2, 2, 3, 2,\n",
       "       3, 1, 2, 2, 3, 2, 2, 3, 1, 1, 3, 3, 3, 3, 3, 2, 3, 2, 2, 0, 1, 3,\n",
       "       3, 3, 3, 2, 3, 0, 0, 2, 3, 3, 3, 0, 1, 3, 4, 2, 3, 4, 0, 3, 3, 4,\n",
       "       3, 3, 0, 1, 3, 2, 3, 0, 3, 2, 1, 3, 2, 2, 2, 3, 1, 3, 1, 3, 0, 2,\n",
       "       3, 4, 0, 2, 2, 1, 3, 3, 3, 2, 3, 3, 1, 3, 3, 3, 1, 2, 3, 2, 3, 0,\n",
       "       2, 2, 2, 2, 1, 3, 3, 2, 2, 3, 2, 1, 3, 3, 3, 1, 3, 1, 0, 1, 3, 3,\n",
       "       1, 3, 2, 1, 3, 2, 1, 3, 2, 3, 2, 0, 2, 2, 3, 3, 0, 3, 2, 4, 4, 0,\n",
       "       3, 0, 2, 3, 3, 2, 3, 3, 4, 1, 2, 2, 3, 0, 3, 1, 1, 2, 1, 0, 0, 3,\n",
       "       3, 0, 3, 3, 4, 0, 3, 1, 3, 1, 2, 2, 1, 3, 3, 0, 1, 0, 3, 3, 1, 3,\n",
       "       2, 2, 3, 2, 0, 3, 0, 1, 1, 2, 1, 2, 3, 3, 2, 3, 3, 2, 3, 3, 1, 3,\n",
       "       2, 1, 2, 3, 3, 0, 2, 2, 3, 3, 2, 0, 3, 1, 2, 1, 2, 0, 2, 2, 1, 3,\n",
       "       3, 4, 4, 3, 4, 2, 4, 2, 1, 1, 1, 1, 1, 3, 3, 3, 2, 2, 2, 2, 3, 3,\n",
       "       1, 3, 3, 1, 1, 0, 3, 3, 0, 3, 1, 2, 3, 3, 1, 2, 1, 2, 2, 2, 2, 3,\n",
       "       2, 3, 1, 2, 3, 3, 3, 3, 1, 3, 1, 1, 3, 3, 3, 1, 0, 2, 1, 4, 3, 4,\n",
       "       3, 3, 2, 3, 3, 3, 3, 2, 1, 3, 2, 3, 3, 0, 0, 3, 0, 3, 0, 2, 3, 3,\n",
       "       1, 0, 0, 3, 1, 3, 3, 2, 3, 1, 0, 2, 3, 2, 2, 1, 3, 3, 2, 2, 2, 3,\n",
       "       3, 2, 2, 2, 1, 2, 2, 3, 3, 3, 0, 3, 2, 3, 2, 2, 3, 0, 0, 2, 3, 2,\n",
       "       0, 1, 1, 2, 3, 1, 1, 1, 3, 0, 2, 1, 2, 0, 1, 3, 0, 0, 3, 1, 2, 3,\n",
       "       3, 3, 1, 1, 0, 3, 3, 3, 3, 1, 3, 1, 1, 3, 2, 3, 2, 0, 3, 4, 3, 2,\n",
       "       0, 3, 3, 1, 1, 1, 0, 3, 3, 3, 2, 3, 1, 2, 3, 3, 3, 2, 2, 3, 1, 1,\n",
       "       1, 3, 1, 2, 0, 3, 2, 2, 2, 3, 2, 3, 2, 2, 3, 2, 3, 3, 0, 1, 3, 3,\n",
       "       3, 2, 3, 0, 3, 1])"
      ]
     },
     "execution_count": 37,
     "metadata": {},
     "output_type": "execute_result"
    }
   ],
   "source": [
    "y_pred_dt = dt_model.predict(x_test)\n",
    "y_pred_dt"
   ]
  },
  {
   "cell_type": "markdown",
   "id": "80302bbd",
   "metadata": {},
   "source": [
    "### Visualization"
   ]
  },
  {
   "cell_type": "code",
   "execution_count": 38,
   "id": "07dec1c6",
   "metadata": {},
   "outputs": [
    {
     "data": {
      "text/plain": [
       "array([3, 3, 2, 3, 1, 3, 3, 3, 3, 3, 3, 2, 0, 0, 1, 2, 2, 2, 3, 2, 3, 3,\n",
       "       3, 3, 2, 2, 0, 3, 3, 1, 3, 3, 0, 2, 3, 3, 3, 3, 0, 1, 3, 1, 0, 1,\n",
       "       1, 3, 3, 3, 3, 3, 1, 1, 3, 1, 3, 3, 3, 0, 1, 3, 1, 2, 2, 3, 2, 3,\n",
       "       2, 3, 1, 4, 3, 3, 2, 1, 2, 1, 2, 2, 1, 3, 2, 1, 0, 4, 3, 3, 3, 2,\n",
       "       1, 1, 3, 3, 2, 3, 2, 3, 2, 0, 2, 3, 2, 3, 3, 1, 1, 0, 0, 3, 3, 3,\n",
       "       2, 1, 3, 2, 0, 4, 3, 3, 2, 3, 3, 3, 2, 3, 0, 3, 3, 2, 2, 0, 1, 3,\n",
       "       2, 2, 2, 0, 3, 2, 3, 3, 2, 1, 2, 3, 2, 3, 3, 1, 2, 3, 2, 2, 3, 2,\n",
       "       3, 1, 2, 2, 3, 2, 2, 3, 1, 1, 3, 3, 3, 3, 3, 2, 3, 2, 2, 0, 1, 3,\n",
       "       3, 3, 3, 2, 3, 0, 0, 2, 3, 3, 3, 0, 1, 3, 4, 2, 3, 4, 0, 3, 3, 4,\n",
       "       3, 3, 0, 1, 3, 2, 3, 0, 3, 2, 1, 3, 2, 2, 2, 3, 1, 3, 1, 3, 0, 2,\n",
       "       3, 4, 0, 2, 2, 1, 3, 3, 3, 2, 3, 3, 1, 3, 3, 3, 1, 2, 3, 2, 3, 0,\n",
       "       2, 2, 2, 2, 1, 3, 3, 2, 2, 3, 2, 1, 3, 3, 3, 1, 3, 1, 0, 1, 3, 3,\n",
       "       1, 3, 2, 1, 3, 2, 1, 3, 2, 3, 2, 0, 2, 2, 3, 3, 0, 3, 2, 4, 4, 0,\n",
       "       3, 0, 2, 3, 3, 2, 3, 3, 4, 1, 2, 2, 3, 0, 3, 1, 1, 2, 1, 0, 0, 3,\n",
       "       3, 0, 3, 3, 4, 0, 3, 1, 3, 1, 2, 2, 1, 3, 3, 0, 1, 0, 3, 3, 1, 3,\n",
       "       2, 2, 3, 2, 0, 3, 0, 1, 1, 2, 1, 2, 3, 3, 2, 3, 3, 2, 3, 3, 1, 3,\n",
       "       2, 1, 2, 3, 3, 0, 2, 2, 3, 3, 2, 0, 3, 1, 2, 1, 2, 0, 2, 2, 1, 3,\n",
       "       3, 4, 4, 3, 4, 2, 4, 2, 1, 1, 1, 1, 1, 3, 3, 3, 2, 2, 2, 2, 3, 3,\n",
       "       1, 3, 3, 1, 1, 0, 3, 3, 0, 3, 1, 2, 3, 3, 1, 2, 1, 2, 2, 2, 2, 3,\n",
       "       2, 3, 1, 2, 3, 3, 3, 3, 1, 3, 1, 1, 3, 3, 3, 1, 0, 2, 1, 4, 3, 4,\n",
       "       3, 3, 2, 3, 3, 3, 3, 2, 1, 3, 2, 3, 3, 0, 0, 3, 0, 3, 0, 2, 3, 3,\n",
       "       1, 0, 0, 3, 1, 3, 3, 2, 3, 1, 0, 2, 3, 2, 2, 1, 3, 3, 2, 2, 2, 3,\n",
       "       3, 2, 2, 2, 1, 2, 2, 3, 3, 3, 0, 3, 2, 3, 2, 2, 3, 0, 0, 2, 3, 2,\n",
       "       0, 1, 1, 2, 3, 1, 1, 1, 3, 0, 2, 1, 2, 0, 1, 3, 0, 0, 3, 1, 2, 3,\n",
       "       3, 3, 1, 1, 0, 3, 3, 3, 3, 1, 3, 1, 1, 3, 2, 3, 2, 0, 3, 4, 3, 2,\n",
       "       0, 3, 3, 1, 1, 1, 0, 3, 3, 3, 2, 3, 1, 2, 3, 3, 3, 2, 2, 3, 1, 1,\n",
       "       1, 3, 1, 2, 0, 3, 2, 2, 2, 3, 2, 3, 2, 2, 3, 2, 3, 3, 0, 1, 3, 3,\n",
       "       3, 2, 3, 0, 3, 1])"
      ]
     },
     "execution_count": 38,
     "metadata": {},
     "output_type": "execute_result"
    }
   ],
   "source": [
    "y_pred_dt"
   ]
  },
  {
   "cell_type": "code",
   "execution_count": 39,
   "id": "115d730f",
   "metadata": {},
   "outputs": [
    {
     "data": {
      "text/html": [
       "<div>\n",
       "<style scoped>\n",
       "    .dataframe tbody tr th:only-of-type {\n",
       "        vertical-align: middle;\n",
       "    }\n",
       "\n",
       "    .dataframe tbody tr th {\n",
       "        vertical-align: top;\n",
       "    }\n",
       "\n",
       "    .dataframe thead th {\n",
       "        text-align: right;\n",
       "    }\n",
       "</style>\n",
       "<table border=\"1\" class=\"dataframe\">\n",
       "  <thead>\n",
       "    <tr style=\"text-align: right;\">\n",
       "      <th></th>\n",
       "      <th>y_test</th>\n",
       "      <th>y_pred</th>\n",
       "    </tr>\n",
       "  </thead>\n",
       "  <tbody>\n",
       "    <tr>\n",
       "      <th>0</th>\n",
       "      <td>3</td>\n",
       "      <td>3</td>\n",
       "    </tr>\n",
       "    <tr>\n",
       "      <th>1</th>\n",
       "      <td>3</td>\n",
       "      <td>3</td>\n",
       "    </tr>\n",
       "    <tr>\n",
       "      <th>2</th>\n",
       "      <td>2</td>\n",
       "      <td>2</td>\n",
       "    </tr>\n",
       "    <tr>\n",
       "      <th>3</th>\n",
       "      <td>3</td>\n",
       "      <td>3</td>\n",
       "    </tr>\n",
       "    <tr>\n",
       "      <th>4</th>\n",
       "      <td>1</td>\n",
       "      <td>1</td>\n",
       "    </tr>\n",
       "    <tr>\n",
       "      <th>...</th>\n",
       "      <td>...</td>\n",
       "      <td>...</td>\n",
       "    </tr>\n",
       "    <tr>\n",
       "      <th>595</th>\n",
       "      <td>2</td>\n",
       "      <td>2</td>\n",
       "    </tr>\n",
       "    <tr>\n",
       "      <th>596</th>\n",
       "      <td>3</td>\n",
       "      <td>3</td>\n",
       "    </tr>\n",
       "    <tr>\n",
       "      <th>597</th>\n",
       "      <td>0</td>\n",
       "      <td>0</td>\n",
       "    </tr>\n",
       "    <tr>\n",
       "      <th>598</th>\n",
       "      <td>3</td>\n",
       "      <td>3</td>\n",
       "    </tr>\n",
       "    <tr>\n",
       "      <th>599</th>\n",
       "      <td>1</td>\n",
       "      <td>1</td>\n",
       "    </tr>\n",
       "  </tbody>\n",
       "</table>\n",
       "<p>600 rows × 2 columns</p>\n",
       "</div>"
      ],
      "text/plain": [
       "     y_test  y_pred\n",
       "0         3       3\n",
       "1         3       3\n",
       "2         2       2\n",
       "3         3       3\n",
       "4         1       1\n",
       "..      ...     ...\n",
       "595       2       2\n",
       "596       3       3\n",
       "597       0       0\n",
       "598       3       3\n",
       "599       1       1\n",
       "\n",
       "[600 rows x 2 columns]"
      ]
     },
     "execution_count": 39,
     "metadata": {},
     "output_type": "execute_result"
    }
   ],
   "source": [
    "pred = pd.DataFrame()\n",
    "pred['y_test'] = y_test\n",
    "pred['y_pred'] = y_pred_dt\n",
    "pred"
   ]
  },
  {
   "cell_type": "code",
   "execution_count": 82,
   "id": "5c4c06fd",
   "metadata": {},
   "outputs": [
    {
     "data": {
      "image/png": "[encoded data removed]",
      "text/plain": [
       "<Figure size 1080x360 with 1 Axes>"
      ]
     },
     "metadata": {
      "needs_background": "light"
     },
     "output_type": "display_data"
    }
   ],
   "source": [
    "\n",
    "plt.figure(figsize=(15,5))\n",
    "\n",
    "x = np.arange(len(y_test))\n",
    "plt.title('Actual vs Predicted - Decision Tree')\n",
    "plt.scatter(x,y_test,label='Actual',color='b')\n",
    "plt.scatter(x,y_pred_dt,label='Predicted',color='pink')\n",
    "plt.legend()\n",
    "plt.show()"
   ]
  },
  {
   "cell_type": "code",
   "execution_count": 41,
   "id": "a8cbc857",
   "metadata": {},
   "outputs": [
    {
     "data": {
      "image/png": "[encoded data removed]",
      "text/plain": [
       "<Figure size 1080x360 with 2 Axes>"
      ]
     },
     "metadata": {
      "needs_background": "light"
     },
     "output_type": "display_data"
    }
   ],
   "source": [
    "plt.figure(figsize=(15,5))\n",
    "plt.suptitle('Actual Vs Predicted - Decision Tree')\n",
    "x = np.arange(len(y_test[:100]))\n",
    "plt.subplot(121)\n",
    "plt.title('Actual')\n",
    "plt.scatter(x,y_test[:100],color='b')\n",
    "plt.subplot(122)\n",
    "plt.title('Predicted')\n",
    "plt.scatter(x,y_pred_dt[:100],color='pink')\n",
    "plt.show()"
   ]
  },
  {
   "cell_type": "markdown",
   "id": "5f081c3d",
   "metadata": {},
   "source": [
    "### Confusion Matrix"
   ]
  },
  {
   "cell_type": "code",
   "execution_count": 42,
   "id": "044d2998",
   "metadata": {},
   "outputs": [
    {
     "data": {
      "image/png": "[encoded data removed]",
      "text/plain": [
       "<Figure size 432x288 with 2 Axes>"
      ]
     },
     "metadata": {
      "needs_background": "light"
     },
     "output_type": "display_data"
    }
   ],
   "source": [
    "cmdt = confusion_matrix(y_test, y_pred_dt)  \n",
    "\n",
    "ax= plt.subplot()\n",
    "sb.heatmap(cmdt, annot=True, fmt='g', ax=ax)\n",
    "\n",
    "ax.set_xlabel('Predicted labels');ax.set_ylabel('Actual labels'); \n",
    "ax.set_title('Confusion Matrix'); \n",
    "ax.xaxis.set_ticklabels(['A','B','C','D','E']); ax.yaxis.set_ticklabels(['A','B','C','D','E']);"
   ]
  },
  {
   "cell_type": "markdown",
   "id": "2c111a63",
   "metadata": {},
   "source": [
    "<span style=\"font-size:18px\" >We see there were some wrongly predicted data points"
   ]
  },
  {
   "cell_type": "markdown",
   "id": "d49f5c4a",
   "metadata": {},
   "source": [
    "### Errors Evaluation Metrics"
   ]
  },
  {
   "cell_type": "code",
   "execution_count": 43,
   "id": "fb8840cf",
   "metadata": {},
   "outputs": [],
   "source": [
    "as_dt = accuracy_score(y_test, y_pred_dt)\n",
    "rc_dt = recall_score(y_test, y_pred_dt, average='weighted')\n",
    "f1_dt = f1_score(y_test, y_pred_dt, average='weighted')\n",
    "pc_dt = precision_score(y_test, y_pred_dt,average='weighted')"
   ]
  },
  {
   "cell_type": "code",
   "execution_count": 44,
   "id": "0ccafa61",
   "metadata": {},
   "outputs": [
    {
     "name": "stderr",
     "output_type": "stream",
     "text": [
      "/var/folders/s5/fs8wsfxx4tndrhq92pr2nzq80000gn/T/ipykernel_14926/3077047910.py:2: FutureWarning: The frame.append method is deprecated and will be removed from pandas in a future version. Use pandas.concat instead.\n",
      "  compare = compare.append(df2, ignore_index = True)\n"
     ]
    }
   ],
   "source": [
    "df2 = {'Model': 'Decision Tree', 'Accuracy': as_dt, 'Recall':rc_dt ,'F1-score':f1_dt,'Precision':pc_dt}\n",
    "compare = compare.append(df2, ignore_index = True)"
   ]
  },
  {
   "cell_type": "code",
   "execution_count": 45,
   "id": "4ad31b92",
   "metadata": {},
   "outputs": [
    {
     "data": {
      "text/html": [
       "<div>\n",
       "<style scoped>\n",
       "    .dataframe tbody tr th:only-of-type {\n",
       "        vertical-align: middle;\n",
       "    }\n",
       "\n",
       "    .dataframe tbody tr th {\n",
       "        vertical-align: top;\n",
       "    }\n",
       "\n",
       "    .dataframe thead th {\n",
       "        text-align: right;\n",
       "    }\n",
       "</style>\n",
       "<table border=\"1\" class=\"dataframe\">\n",
       "  <thead>\n",
       "    <tr style=\"text-align: right;\">\n",
       "      <th></th>\n",
       "      <th>Model</th>\n",
       "      <th>Accuracy</th>\n",
       "      <th>Recall</th>\n",
       "      <th>F1-score</th>\n",
       "      <th>Precision</th>\n",
       "    </tr>\n",
       "  </thead>\n",
       "  <tbody>\n",
       "    <tr>\n",
       "      <th>0</th>\n",
       "      <td>Naive Bayes</td>\n",
       "      <td>0.916667</td>\n",
       "      <td>0.916667</td>\n",
       "      <td>0.915839</td>\n",
       "      <td>0.915953</td>\n",
       "    </tr>\n",
       "    <tr>\n",
       "      <th>1</th>\n",
       "      <td>Decision Tree</td>\n",
       "      <td>0.950000</td>\n",
       "      <td>0.950000</td>\n",
       "      <td>0.949888</td>\n",
       "      <td>0.949890</td>\n",
       "    </tr>\n",
       "  </tbody>\n",
       "</table>\n",
       "</div>"
      ],
      "text/plain": [
       "           Model  Accuracy    Recall  F1-score  Precision\n",
       "0    Naive Bayes  0.916667  0.916667  0.915839   0.915953\n",
       "1  Decision Tree  0.950000  0.950000  0.949888   0.949890"
      ]
     },
     "execution_count": 45,
     "metadata": {},
     "output_type": "execute_result"
    }
   ],
   "source": [
    "compare"
   ]
  },
  {
   "cell_type": "markdown",
   "id": "ce181101",
   "metadata": {},
   "source": [
    "<span style=\"font-size:18px\" >We can see the evlation metrics score"
   ]
  },
  {
   "cell_type": "markdown",
   "id": "82d6bcff",
   "metadata": {},
   "source": [
    "**********************"
   ]
  },
  {
   "cell_type": "markdown",
   "id": "7a200107",
   "metadata": {},
   "source": [
    "<span style=\"font-size:28px\" ><mark> Random Forrest With Hyperparameter Tuning </mark> <span> "
   ]
  },
  {
   "cell_type": "markdown",
   "id": "8b65e6bc",
   "metadata": {},
   "source": [
    "### Loading the Libraries "
   ]
  },
  {
   "cell_type": "code",
   "execution_count": 46,
   "id": "7697012d",
   "metadata": {},
   "outputs": [],
   "source": [
    "from sklearn.ensemble import RandomForestClassifier "
   ]
  },
  {
   "cell_type": "markdown",
   "id": "4d14e6c6",
   "metadata": {},
   "source": [
    "### Performing Grid Search to get best estimators"
   ]
  },
  {
   "cell_type": "code",
   "execution_count": 47,
   "id": "994dd1b3",
   "metadata": {},
   "outputs": [
    {
     "name": "stdout",
     "output_type": "stream",
     "text": [
      "Fitting 15 folds for each of 270 candidates, totalling 4050 fits\n",
      "\n",
      "Best Test Score :  0.9558333333333332\n",
      "\n",
      "Best Estimator :  RandomForestClassifier(max_depth=9, min_samples_leaf=5, n_estimators=50,\n",
      "                       n_jobs=-1, random_state=1)\n"
     ]
    }
   ],
   "source": [
    "\n",
    "\n",
    "rf = RandomForestClassifier(random_state=1, n_jobs=-1)\n",
    "\n",
    "params = {'max_depth': np.arange(1,10),\n",
    "    'min_samples_leaf': [5,10,20,30,40],\n",
    "    'n_estimators': [10,25,30,50,100,150]\n",
    "}\n",
    "\n",
    "grid_search = GridSearchCV(estimator=rf,\n",
    "                           param_grid=params,\n",
    "                           cv = cv,\n",
    "                           n_jobs=-1, verbose=1, scoring=\"accuracy\")\n",
    "\n",
    "grid_search.fit(x_train, y_train)\n",
    "\n",
    "#best score of model\n",
    "test_score= grid_search.best_score_\n",
    "\n",
    "#Best score estimator\n",
    "best_est = grid_search.best_estimator_\n",
    "print()\n",
    "print(\"Best Test Score : \", test_score)\n",
    "print()\n",
    "print(\"Best Estimator : \", best_est)"
   ]
  },
  {
   "cell_type": "markdown",
   "id": "b8ad23b4",
   "metadata": {},
   "source": [
    "<span style=\"font-size:18px\" >We see max_depth as 9 we will use that to build our model"
   ]
  },
  {
   "cell_type": "markdown",
   "id": "880a3bd8",
   "metadata": {},
   "source": [
    "### Model Building"
   ]
  },
  {
   "cell_type": "code",
   "execution_count": 48,
   "id": "2f6ae8a6",
   "metadata": {},
   "outputs": [],
   "source": [
    "rf_model = RandomForestClassifier(max_depth = 9 , min_samples_leaf = 5, n_estimators=150)"
   ]
  },
  {
   "cell_type": "markdown",
   "id": "b52cf722",
   "metadata": {},
   "source": [
    "### Fitting the Model"
   ]
  },
  {
   "cell_type": "code",
   "execution_count": 49,
   "id": "a1b68f56",
   "metadata": {},
   "outputs": [],
   "source": [
    "rf = rf_model.fit(x_train, y_train)"
   ]
  },
  {
   "cell_type": "markdown",
   "id": "7e22ad14",
   "metadata": {},
   "source": [
    "### Predictions"
   ]
  },
  {
   "cell_type": "code",
   "execution_count": 50,
   "id": "07eb9e4f",
   "metadata": {},
   "outputs": [
    {
     "data": {
      "text/plain": [
       "array([3, 3, 2, 3, 1, 3, 3, 3, 3, 3, 3, 2, 0, 0, 2, 2, 2, 2, 3, 2, 3, 3,\n",
       "       3, 3, 2, 2, 0, 3, 3, 1, 3, 3, 0, 2, 3, 3, 3, 3, 0, 1, 3, 1, 0, 1,\n",
       "       1, 3, 3, 3, 3, 3, 1, 1, 3, 1, 3, 3, 3, 0, 1, 3, 2, 2, 2, 3, 2, 3,\n",
       "       2, 3, 1, 4, 2, 3, 2, 1, 2, 1, 2, 2, 1, 3, 2, 1, 0, 3, 3, 3, 3, 2,\n",
       "       1, 1, 3, 3, 2, 3, 2, 3, 2, 0, 2, 3, 2, 3, 3, 1, 1, 0, 0, 3, 3, 3,\n",
       "       2, 1, 3, 2, 0, 4, 3, 3, 3, 3, 3, 3, 2, 3, 0, 3, 3, 2, 2, 0, 1, 3,\n",
       "       2, 2, 2, 0, 3, 2, 3, 3, 2, 1, 2, 3, 2, 3, 3, 1, 2, 3, 2, 2, 3, 2,\n",
       "       3, 1, 2, 2, 3, 2, 2, 3, 1, 1, 3, 3, 3, 3, 3, 2, 3, 2, 2, 0, 2, 3,\n",
       "       3, 3, 3, 2, 3, 0, 0, 2, 3, 3, 3, 0, 1, 3, 3, 2, 3, 3, 0, 3, 3, 4,\n",
       "       3, 3, 0, 1, 3, 2, 3, 0, 3, 2, 1, 3, 2, 2, 2, 3, 2, 3, 1, 3, 0, 2,\n",
       "       3, 4, 0, 2, 2, 1, 3, 3, 3, 2, 3, 3, 1, 3, 3, 3, 1, 2, 3, 2, 3, 0,\n",
       "       2, 2, 2, 2, 1, 3, 3, 3, 1, 3, 2, 1, 3, 3, 3, 1, 3, 1, 0, 2, 3, 3,\n",
       "       1, 3, 2, 1, 3, 2, 1, 3, 2, 3, 2, 0, 2, 2, 3, 3, 0, 3, 2, 4, 4, 0,\n",
       "       3, 0, 2, 3, 3, 2, 3, 3, 4, 1, 2, 2, 3, 0, 3, 1, 1, 2, 1, 0, 0, 3,\n",
       "       3, 0, 3, 3, 4, 0, 3, 1, 3, 1, 2, 2, 1, 3, 3, 0, 1, 0, 3, 3, 1, 3,\n",
       "       2, 2, 3, 2, 0, 3, 0, 1, 1, 2, 2, 2, 3, 3, 2, 3, 3, 2, 3, 3, 1, 3,\n",
       "       2, 1, 2, 3, 3, 0, 2, 2, 3, 3, 2, 0, 3, 1, 2, 1, 2, 0, 2, 2, 1, 3,\n",
       "       3, 3, 4, 3, 4, 2, 3, 2, 1, 1, 1, 1, 1, 3, 3, 3, 2, 2, 2, 2, 3, 3,\n",
       "       1, 3, 3, 1, 1, 0, 3, 3, 0, 3, 1, 2, 3, 3, 0, 2, 1, 2, 2, 2, 2, 3,\n",
       "       2, 4, 1, 2, 3, 3, 3, 3, 1, 3, 1, 1, 3, 3, 3, 1, 0, 2, 1, 4, 3, 3,\n",
       "       3, 3, 2, 3, 3, 3, 3, 2, 1, 3, 2, 3, 3, 0, 0, 3, 0, 3, 0, 2, 3, 3,\n",
       "       1, 0, 0, 3, 1, 3, 3, 2, 3, 1, 0, 2, 3, 3, 3, 1, 3, 3, 2, 2, 2, 3,\n",
       "       3, 2, 3, 2, 1, 2, 2, 4, 3, 3, 0, 3, 1, 3, 2, 2, 3, 0, 0, 2, 3, 2,\n",
       "       0, 1, 1, 3, 3, 1, 1, 1, 3, 0, 2, 1, 2, 0, 1, 3, 0, 0, 3, 1, 2, 3,\n",
       "       3, 3, 1, 1, 1, 3, 3, 3, 3, 1, 3, 1, 1, 3, 2, 3, 2, 0, 3, 4, 3, 2,\n",
       "       0, 3, 3, 1, 1, 1, 1, 3, 3, 3, 3, 3, 1, 2, 3, 3, 3, 2, 2, 3, 1, 1,\n",
       "       1, 3, 1, 2, 0, 3, 2, 2, 2, 3, 2, 3, 2, 2, 3, 2, 3, 3, 0, 1, 3, 3,\n",
       "       3, 2, 3, 0, 3, 1])"
      ]
     },
     "execution_count": 50,
     "metadata": {},
     "output_type": "execute_result"
    }
   ],
   "source": [
    "y_pred_rf = rf.predict(x_test)\n",
    "y_pred_rf"
   ]
  },
  {
   "cell_type": "code",
   "execution_count": 51,
   "id": "d4e3d769",
   "metadata": {},
   "outputs": [
    {
     "data": {
      "text/html": [
       "<div>\n",
       "<style scoped>\n",
       "    .dataframe tbody tr th:only-of-type {\n",
       "        vertical-align: middle;\n",
       "    }\n",
       "\n",
       "    .dataframe tbody tr th {\n",
       "        vertical-align: top;\n",
       "    }\n",
       "\n",
       "    .dataframe thead th {\n",
       "        text-align: right;\n",
       "    }\n",
       "</style>\n",
       "<table border=\"1\" class=\"dataframe\">\n",
       "  <thead>\n",
       "    <tr style=\"text-align: right;\">\n",
       "      <th></th>\n",
       "      <th>y_test</th>\n",
       "      <th>y_pred</th>\n",
       "      <th>y_pred_rf</th>\n",
       "    </tr>\n",
       "  </thead>\n",
       "  <tbody>\n",
       "    <tr>\n",
       "      <th>0</th>\n",
       "      <td>3</td>\n",
       "      <td>3</td>\n",
       "      <td>3</td>\n",
       "    </tr>\n",
       "    <tr>\n",
       "      <th>1</th>\n",
       "      <td>3</td>\n",
       "      <td>3</td>\n",
       "      <td>3</td>\n",
       "    </tr>\n",
       "    <tr>\n",
       "      <th>2</th>\n",
       "      <td>2</td>\n",
       "      <td>2</td>\n",
       "      <td>2</td>\n",
       "    </tr>\n",
       "    <tr>\n",
       "      <th>3</th>\n",
       "      <td>3</td>\n",
       "      <td>3</td>\n",
       "      <td>3</td>\n",
       "    </tr>\n",
       "    <tr>\n",
       "      <th>4</th>\n",
       "      <td>1</td>\n",
       "      <td>1</td>\n",
       "      <td>1</td>\n",
       "    </tr>\n",
       "    <tr>\n",
       "      <th>...</th>\n",
       "      <td>...</td>\n",
       "      <td>...</td>\n",
       "      <td>...</td>\n",
       "    </tr>\n",
       "    <tr>\n",
       "      <th>595</th>\n",
       "      <td>2</td>\n",
       "      <td>2</td>\n",
       "      <td>2</td>\n",
       "    </tr>\n",
       "    <tr>\n",
       "      <th>596</th>\n",
       "      <td>3</td>\n",
       "      <td>3</td>\n",
       "      <td>3</td>\n",
       "    </tr>\n",
       "    <tr>\n",
       "      <th>597</th>\n",
       "      <td>0</td>\n",
       "      <td>0</td>\n",
       "      <td>0</td>\n",
       "    </tr>\n",
       "    <tr>\n",
       "      <th>598</th>\n",
       "      <td>3</td>\n",
       "      <td>3</td>\n",
       "      <td>3</td>\n",
       "    </tr>\n",
       "    <tr>\n",
       "      <th>599</th>\n",
       "      <td>1</td>\n",
       "      <td>1</td>\n",
       "      <td>1</td>\n",
       "    </tr>\n",
       "  </tbody>\n",
       "</table>\n",
       "<p>600 rows × 3 columns</p>\n",
       "</div>"
      ],
      "text/plain": [
       "     y_test  y_pred  y_pred_rf\n",
       "0         3       3          3\n",
       "1         3       3          3\n",
       "2         2       2          2\n",
       "3         3       3          3\n",
       "4         1       1          1\n",
       "..      ...     ...        ...\n",
       "595       2       2          2\n",
       "596       3       3          3\n",
       "597       0       0          0\n",
       "598       3       3          3\n",
       "599       1       1          1\n",
       "\n",
       "[600 rows x 3 columns]"
      ]
     },
     "execution_count": 51,
     "metadata": {},
     "output_type": "execute_result"
    }
   ],
   "source": [
    "pred['y_pred_rf'] = y_pred_rf\n",
    "pred"
   ]
  },
  {
   "cell_type": "markdown",
   "id": "5a5c4e5e",
   "metadata": {},
   "source": [
    "### Visualizations"
   ]
  },
  {
   "cell_type": "code",
   "execution_count": 81,
   "id": "e78cb6d8",
   "metadata": {},
   "outputs": [
    {
     "data": {
      "text/plain": [
       "<matplotlib.collections.PathCollection at 0x7fc5ddf8fb50>"
      ]
     },
     "execution_count": 81,
     "metadata": {},
     "output_type": "execute_result"
    },
    {
     "data": {
      "image/png": "[encoded data removed]",
      "text/plain": [
       "<Figure size 1080x360 with 1 Axes>"
      ]
     },
     "metadata": {
      "needs_background": "light"
     },
     "output_type": "display_data"
    }
   ],
   "source": [
    "\n",
    "plt.figure(figsize=(15,5))\n",
    "plt.title('Actual and Predicted - Random Forest ')\n",
    "x = np.arange(len(y_test))\n",
    "plt.scatter(x,y_test,color='b')\n",
    "plt.scatter(x,y_pred_rf,color='pink')"
   ]
  },
  {
   "cell_type": "code",
   "execution_count": 53,
   "id": "158a4319",
   "metadata": {},
   "outputs": [
    {
     "data": {
      "text/plain": [
       "<matplotlib.collections.PathCollection at 0x7fc5de843340>"
      ]
     },
     "execution_count": 53,
     "metadata": {},
     "output_type": "execute_result"
    },
    {
     "data": {
      "image/png": "[encoded data removed]",
      "text/plain": [
       "<Figure size 1080x360 with 2 Axes>"
      ]
     },
     "metadata": {
      "needs_background": "light"
     },
     "output_type": "display_data"
    }
   ],
   "source": [
    "plt.figure(figsize=(15,5))\n",
    "\n",
    "x = np.arange(len(y_test[:100]))\n",
    "plt.subplot(121)\n",
    "plt.title('Actual')\n",
    "plt.scatter(x,y_test[:100],color='b')\n",
    "plt.subplot(122)\n",
    "plt.title('Predicted')\n",
    "plt.scatter(x,y_pred_rf[:100],color='pink')"
   ]
  },
  {
   "cell_type": "markdown",
   "id": "53a72d5c",
   "metadata": {},
   "source": [
    "### Evalution metrics"
   ]
  },
  {
   "cell_type": "code",
   "execution_count": 54,
   "id": "698a5830",
   "metadata": {},
   "outputs": [],
   "source": [
    "as_rf = accuracy_score(y_test, y_pred_dt)\n",
    "rc_rf = recall_score(y_test, y_pred_dt, average='weighted')\n",
    "f1_rf = f1_score(y_test, y_pred_dt, average='weighted')\n",
    "pc_rf = precision_score(y_test, y_pred_dt,average='weighted')"
   ]
  },
  {
   "cell_type": "code",
   "execution_count": 55,
   "id": "9159effa",
   "metadata": {},
   "outputs": [
    {
     "name": "stderr",
     "output_type": "stream",
     "text": [
      "/var/folders/s5/fs8wsfxx4tndrhq92pr2nzq80000gn/T/ipykernel_14926/3379997509.py:2: FutureWarning: The frame.append method is deprecated and will be removed from pandas in a future version. Use pandas.concat instead.\n",
      "  compare = compare.append(df2, ignore_index = True)\n"
     ]
    }
   ],
   "source": [
    "df2 = {'Model': 'Random Forrest', 'Accuracy': as_rf, 'Recall':rc_rf ,'F1-score':f1_rf,'Precision':pc_rf}\n",
    "compare = compare.append(df2, ignore_index = True)"
   ]
  },
  {
   "cell_type": "code",
   "execution_count": 56,
   "id": "1332aa94",
   "metadata": {},
   "outputs": [
    {
     "data": {
      "text/html": [
       "<div>\n",
       "<style scoped>\n",
       "    .dataframe tbody tr th:only-of-type {\n",
       "        vertical-align: middle;\n",
       "    }\n",
       "\n",
       "    .dataframe tbody tr th {\n",
       "        vertical-align: top;\n",
       "    }\n",
       "\n",
       "    .dataframe thead th {\n",
       "        text-align: right;\n",
       "    }\n",
       "</style>\n",
       "<table border=\"1\" class=\"dataframe\">\n",
       "  <thead>\n",
       "    <tr style=\"text-align: right;\">\n",
       "      <th></th>\n",
       "      <th>Model</th>\n",
       "      <th>Accuracy</th>\n",
       "      <th>Recall</th>\n",
       "      <th>F1-score</th>\n",
       "      <th>Precision</th>\n",
       "    </tr>\n",
       "  </thead>\n",
       "  <tbody>\n",
       "    <tr>\n",
       "      <th>0</th>\n",
       "      <td>Naive Bayes</td>\n",
       "      <td>0.916667</td>\n",
       "      <td>0.916667</td>\n",
       "      <td>0.915839</td>\n",
       "      <td>0.915953</td>\n",
       "    </tr>\n",
       "    <tr>\n",
       "      <th>1</th>\n",
       "      <td>Decision Tree</td>\n",
       "      <td>0.950000</td>\n",
       "      <td>0.950000</td>\n",
       "      <td>0.949888</td>\n",
       "      <td>0.949890</td>\n",
       "    </tr>\n",
       "    <tr>\n",
       "      <th>2</th>\n",
       "      <td>Random Forrest</td>\n",
       "      <td>0.950000</td>\n",
       "      <td>0.950000</td>\n",
       "      <td>0.949888</td>\n",
       "      <td>0.949890</td>\n",
       "    </tr>\n",
       "  </tbody>\n",
       "</table>\n",
       "</div>"
      ],
      "text/plain": [
       "            Model  Accuracy    Recall  F1-score  Precision\n",
       "0     Naive Bayes  0.916667  0.916667  0.915839   0.915953\n",
       "1   Decision Tree  0.950000  0.950000  0.949888   0.949890\n",
       "2  Random Forrest  0.950000  0.950000  0.949888   0.949890"
      ]
     },
     "execution_count": 56,
     "metadata": {},
     "output_type": "execute_result"
    }
   ],
   "source": [
    "compare"
   ]
  },
  {
   "cell_type": "markdown",
   "id": "7c9b885c",
   "metadata": {},
   "source": [
    "<span style=\"font-size:18px\" > We can see the scores"
   ]
  },
  {
   "cell_type": "markdown",
   "id": "554ae76f",
   "metadata": {},
   "source": [
    "*********"
   ]
  },
  {
   "cell_type": "markdown",
   "id": "0b217865",
   "metadata": {},
   "source": [
    "<span style=\"font-size:28px\" ><mark> K Neighbors Classifier </mark> <span> "
   ]
  },
  {
   "cell_type": "markdown",
   "id": "303c9ba3",
   "metadata": {},
   "source": [
    "### Loading the library"
   ]
  },
  {
   "cell_type": "code",
   "execution_count": 57,
   "id": "fc3aa74a",
   "metadata": {},
   "outputs": [],
   "source": [
    "from sklearn.neighbors import KNeighborsClassifier \n",
    "from sklearn import neighbors"
   ]
  },
  {
   "cell_type": "markdown",
   "id": "8d7d2e6c",
   "metadata": {},
   "source": [
    "### Finding K with the lowest error"
   ]
  },
  {
   "cell_type": "code",
   "execution_count": 58,
   "id": "2356367f",
   "metadata": {
    "scrolled": true
   },
   "outputs": [
    {
     "name": "stdout",
     "output_type": "stream",
     "text": [
      "Minimum error:- 0.058333333333333334 at K = 3\n"
     ]
    },
    {
     "data": {
      "image/png": "[encoded data removed]",
      "text/plain": [
       "<Figure size 1080x720 with 1 Axes>"
      ]
     },
     "metadata": {
      "needs_background": "light"
     },
     "output_type": "display_data"
    }
   ],
   "source": [
    "error_rate = []\n",
    "for i in range(1,20):\n",
    "    clf = KNeighborsClassifier(n_neighbors=i).fit(x_train, y_train)\n",
    "    pred = clf.predict(x_test)\n",
    "    error_rate.append(np.mean(pred != y_test))\n",
    "\n",
    "plt.figure(figsize=(15,10))\n",
    "plt.plot(range(1,20), error_rate, linestyle='dashed', marker='o',markerfacecolor='red', ms=7)\n",
    "plt.title('Error Rate vs. K Value')\n",
    "plt.xlabel('K')\n",
    "plt.ylabel('Error Rate')\n",
    "print(\"Minimum error:-\",min(error_rate),\"at K =\",error_rate.index(min(error_rate))+1)"
   ]
  },
  {
   "cell_type": "markdown",
   "id": "58bb1072",
   "metadata": {},
   "source": [
    "<span style=\"font-size:18px\" >We can determine 3 as our K value as it has the lowest error."
   ]
  },
  {
   "cell_type": "markdown",
   "id": "98bb122f",
   "metadata": {},
   "source": [
    "### Building and Fitting the model"
   ]
  },
  {
   "cell_type": "code",
   "execution_count": 59,
   "id": "84e6642b",
   "metadata": {},
   "outputs": [
    {
     "data": {
      "text/plain": [
       "KNeighborsClassifier(n_neighbors=3)"
      ]
     },
     "execution_count": 59,
     "metadata": {},
     "output_type": "execute_result"
    }
   ],
   "source": [
    "k = 3\n",
    "knn_model = neighbors.KNeighborsClassifier(k)\n",
    "knn_model.fit(x_train, y_train)"
   ]
  },
  {
   "cell_type": "markdown",
   "id": "02b92a25",
   "metadata": {},
   "source": [
    "### Predictions"
   ]
  },
  {
   "cell_type": "code",
   "execution_count": 60,
   "id": "9735e2d3",
   "metadata": {},
   "outputs": [
    {
     "name": "stdout",
     "output_type": "stream",
     "text": [
      "Predicted values: [3 3 2 3 1 3 3 3 3 3 3 2 0 0 2 2 2 2 3 2 3 3 3 3 2 2 0 3 3 1 3 3 0 2 3 3 3\n",
      " 3 0 1 3 1 0 1 1 3 3 3 3 3 1 0 3 2 3 3 3 0 1 3 2 2 2 3 2 3 2 3 1 4 3 3 2 1\n",
      " 2 1 2 2 1 3 2 1 0 4 3 3 3 2 1 2 3 3 2 3 2 3 2 0 2 3 2 3 3 1 1 0 0 3 3 3 2\n",
      " 1 3 2 0 4 3 3 3 3 3 3 2 3 0 3 3 2 2 0 1 3 2 2 2 0 3 2 3 3 2 1 2 3 2 3 3 1\n",
      " 2 3 2 2 3 2 3 0 2 2 3 2 2 3 1 1 3 3 3 3 3 2 3 2 1 0 2 3 3 3 3 2 3 0 0 2 3\n",
      " 3 3 0 1 3 3 2 3 4 0 3 3 4 3 3 0 0 3 2 3 0 3 2 1 3 2 2 2 3 1 3 1 3 0 2 3 4\n",
      " 0 2 2 1 3 3 3 2 3 3 1 3 3 3 1 2 3 2 3 0 2 2 2 3 1 3 3 2 1 3 1 1 3 3 3 1 3\n",
      " 1 0 1 3 3 1 3 2 1 3 2 1 3 2 3 2 0 2 2 3 3 0 3 2 4 4 1 3 0 2 3 3 2 3 3 4 1\n",
      " 2 2 3 0 3 1 1 2 1 0 0 3 3 0 3 3 4 0 3 1 3 1 2 2 1 3 3 0 1 0 3 3 1 3 2 2 3\n",
      " 2 0 3 0 1 1 2 2 2 3 3 2 3 2 2 3 3 1 3 2 1 2 3 3 0 3 2 3 3 2 0 3 1 2 1 2 0\n",
      " 2 2 0 3 3 3 4 3 4 2 3 2 1 1 1 2 1 3 3 3 2 2 2 2 3 3 1 3 3 1 1 0 3 2 1 3 1\n",
      " 2 3 3 1 2 1 2 2 2 2 3 2 4 1 2 3 3 3 3 1 3 1 1 3 3 3 1 0 2 1 4 3 4 3 3 1 3\n",
      " 3 3 3 2 1 3 2 3 3 0 1 3 0 3 0 2 3 3 1 0 0 3 1 3 3 2 3 1 0 3 3 3 3 1 3 3 2\n",
      " 2 2 3 3 2 3 2 1 2 2 3 3 3 0 3 1 3 2 2 3 0 0 2 3 2 0 1 1 2 3 1 0 1 3 0 2 1\n",
      " 2 0 1 3 0 1 3 0 2 3 3 3 1 1 1 3 3 3 3 1 3 1 1 3 2 3 2 1 3 4 3 2 0 3 3 1 1\n",
      " 1 0 3 3 3 2 3 1 2 3 3 3 1 2 3 1 1 1 3 1 2 0 3 2 2 2 3 2 3 2 2 3 2 3 3 0 1\n",
      " 3 3 3 2 3 0 3 2]\n"
     ]
    }
   ],
   "source": [
    "knn_y_pred = knn_model.predict(x_test)\n",
    "print('Predicted values:',knn_y_pred)"
   ]
  },
  {
   "cell_type": "markdown",
   "id": "644633c7",
   "metadata": {},
   "source": [
    "### Visualizations"
   ]
  },
  {
   "cell_type": "code",
   "execution_count": 61,
   "id": "d98370bc",
   "metadata": {},
   "outputs": [
    {
     "data": {
      "text/plain": [
       "<matplotlib.collections.PathCollection at 0x7fc5dc8abee0>"
      ]
     },
     "execution_count": 61,
     "metadata": {},
     "output_type": "execute_result"
    },
    {
     "data": {
      "image/png": "[encoded data removed]",
      "text/plain": [
       "<Figure size 1080x360 with 1 Axes>"
      ]
     },
     "metadata": {
      "needs_background": "light"
     },
     "output_type": "display_data"
    }
   ],
   "source": [
    "plt.figure(figsize=(15,5))\n",
    "plt.title('Actual Vs Predicted - KNN')\n",
    "x = np.arange(len(y_test[:100]))\n",
    "plt.scatter(x,y_test[:100],label='Actual',color='b')\n",
    "plt.scatter(x,knn_y_pred[:100],label='Predicted',color='pink')"
   ]
  },
  {
   "cell_type": "code",
   "execution_count": 62,
   "id": "187bad71",
   "metadata": {},
   "outputs": [
    {
     "data": {
      "text/plain": [
       "<matplotlib.collections.PathCollection at 0x7fc5dbc928b0>"
      ]
     },
     "execution_count": 62,
     "metadata": {},
     "output_type": "execute_result"
    },
    {
     "data": {
      "image/png": "[encoded data removed]",
      "text/plain": [
       "<Figure size 1080x360 with 2 Axes>"
      ]
     },
     "metadata": {
      "needs_background": "light"
     },
     "output_type": "display_data"
    }
   ],
   "source": [
    "plt.figure(figsize=(15,5))\n",
    "x = np.arange(len(y_test[:100]))\n",
    "plt.subplot(121)\n",
    "plt.title('Actual')\n",
    "plt.scatter(x,y_test[:100],color='b')\n",
    "plt.subplot(122)\n",
    "plt.title('Predicted')\n",
    "plt.scatter(x,knn_y_pred[:100],color='pink')"
   ]
  },
  {
   "cell_type": "markdown",
   "id": "39535296",
   "metadata": {},
   "source": [
    "### Accuracy Score"
   ]
  },
  {
   "cell_type": "code",
   "execution_count": 63,
   "id": "b8004d9b",
   "metadata": {},
   "outputs": [
    {
     "name": "stdout",
     "output_type": "stream",
     "text": [
      "Performance =  0.9416666666666667\n"
     ]
    }
   ],
   "source": [
    "print('Performance = ',knn_model.score(x_test, y_test))"
   ]
  },
  {
   "cell_type": "markdown",
   "id": "89759b1b",
   "metadata": {},
   "source": [
    "### Confusion Matrix "
   ]
  },
  {
   "cell_type": "code",
   "execution_count": 64,
   "id": "8d31dc18",
   "metadata": {},
   "outputs": [
    {
     "data": {
      "image/png": "[encoded data removed]",
      "text/plain": [
       "<Figure size 432x288 with 2 Axes>"
      ]
     },
     "metadata": {
      "needs_background": "light"
     },
     "output_type": "display_data"
    }
   ],
   "source": [
    "cmknn = confusion_matrix(y_test, knn_y_pred)\n",
    "\n",
    "ax= plt.subplot()\n",
    "sb.heatmap(cmknn, annot=True, fmt='g', ax=ax)\n",
    "\n",
    "ax.set_xlabel('Predicted labels');ax.set_ylabel('Actual labels'); \n",
    "ax.set_title('Confusion Matrix'); \n",
    "ax.xaxis.set_ticklabels(['A','B','C','D','E']); ax.yaxis.set_ticklabels(['A','B','C','D','E']);\n"
   ]
  },
  {
   "cell_type": "markdown",
   "id": "df5d1728",
   "metadata": {},
   "source": [
    "### Evaluation metrics"
   ]
  },
  {
   "cell_type": "code",
   "execution_count": 65,
   "id": "73d10690",
   "metadata": {},
   "outputs": [],
   "source": [
    "ac_knn = accuracy_score(y_test, knn_y_pred)\n",
    "rec_knn =  recall_score(y_test, knn_y_pred, average='weighted')\n",
    "f1_knn = f1_score(y_test, knn_y_pred, average='weighted')\n",
    "prec_knn = precision_score(y_test, knn_y_pred, average='weighted')"
   ]
  },
  {
   "cell_type": "markdown",
   "id": "3fcece61",
   "metadata": {},
   "source": [
    "<span style=\"font-size:18px\" > We see there were wrongly predicted datapoints."
   ]
  },
  {
   "cell_type": "code",
   "execution_count": 66,
   "id": "0fde0b0b",
   "metadata": {},
   "outputs": [
    {
     "name": "stderr",
     "output_type": "stream",
     "text": [
      "/var/folders/s5/fs8wsfxx4tndrhq92pr2nzq80000gn/T/ipykernel_14926/1767132659.py:2: FutureWarning: The frame.append method is deprecated and will be removed from pandas in a future version. Use pandas.concat instead.\n",
      "  compare = compare.append(df2, ignore_index = True)\n"
     ]
    }
   ],
   "source": [
    "df2 = {'Model': 'KNN', 'Accuracy': ac_knn, 'Recall':rec_knn ,'F1-score':f1_knn,'Precision':prec_knn}\n",
    "compare = compare.append(df2, ignore_index = True)"
   ]
  },
  {
   "cell_type": "code",
   "execution_count": 67,
   "id": "505beb1e",
   "metadata": {},
   "outputs": [
    {
     "data": {
      "text/html": [
       "<div>\n",
       "<style scoped>\n",
       "    .dataframe tbody tr th:only-of-type {\n",
       "        vertical-align: middle;\n",
       "    }\n",
       "\n",
       "    .dataframe tbody tr th {\n",
       "        vertical-align: top;\n",
       "    }\n",
       "\n",
       "    .dataframe thead th {\n",
       "        text-align: right;\n",
       "    }\n",
       "</style>\n",
       "<table border=\"1\" class=\"dataframe\">\n",
       "  <thead>\n",
       "    <tr style=\"text-align: right;\">\n",
       "      <th></th>\n",
       "      <th>Model</th>\n",
       "      <th>Accuracy</th>\n",
       "      <th>Recall</th>\n",
       "      <th>F1-score</th>\n",
       "      <th>Precision</th>\n",
       "    </tr>\n",
       "  </thead>\n",
       "  <tbody>\n",
       "    <tr>\n",
       "      <th>0</th>\n",
       "      <td>Naive Bayes</td>\n",
       "      <td>0.916667</td>\n",
       "      <td>0.916667</td>\n",
       "      <td>0.915839</td>\n",
       "      <td>0.915953</td>\n",
       "    </tr>\n",
       "    <tr>\n",
       "      <th>1</th>\n",
       "      <td>Decision Tree</td>\n",
       "      <td>0.950000</td>\n",
       "      <td>0.950000</td>\n",
       "      <td>0.949888</td>\n",
       "      <td>0.949890</td>\n",
       "    </tr>\n",
       "    <tr>\n",
       "      <th>2</th>\n",
       "      <td>Random Forrest</td>\n",
       "      <td>0.950000</td>\n",
       "      <td>0.950000</td>\n",
       "      <td>0.949888</td>\n",
       "      <td>0.949890</td>\n",
       "    </tr>\n",
       "    <tr>\n",
       "      <th>3</th>\n",
       "      <td>KNN</td>\n",
       "      <td>0.941667</td>\n",
       "      <td>0.941667</td>\n",
       "      <td>0.941315</td>\n",
       "      <td>0.941659</td>\n",
       "    </tr>\n",
       "  </tbody>\n",
       "</table>\n",
       "</div>"
      ],
      "text/plain": [
       "            Model  Accuracy    Recall  F1-score  Precision\n",
       "0     Naive Bayes  0.916667  0.916667  0.915839   0.915953\n",
       "1   Decision Tree  0.950000  0.950000  0.949888   0.949890\n",
       "2  Random Forrest  0.950000  0.950000  0.949888   0.949890\n",
       "3             KNN  0.941667  0.941667  0.941315   0.941659"
      ]
     },
     "execution_count": 67,
     "metadata": {},
     "output_type": "execute_result"
    }
   ],
   "source": [
    "compare"
   ]
  },
  {
   "cell_type": "markdown",
   "id": "3dcb20a0",
   "metadata": {},
   "source": [
    "<span style=\"font-size:18px\" >We can see the error scores"
   ]
  },
  {
   "cell_type": "markdown",
   "id": "bf314178",
   "metadata": {},
   "source": [
    "****************************"
   ]
  },
  {
   "cell_type": "markdown",
   "id": "5e91e38e",
   "metadata": {},
   "source": [
    "<span style=\"font-size:28px\" ><mark> Ada Boost Classifier </mark> <span> "
   ]
  },
  {
   "cell_type": "markdown",
   "id": "88845de7",
   "metadata": {},
   "source": [
    "### Loading the libraries"
   ]
  },
  {
   "cell_type": "code",
   "execution_count": 68,
   "id": "6b46de2e",
   "metadata": {},
   "outputs": [],
   "source": [
    "from sklearn.ensemble import AdaBoostClassifier\n",
    "from sklearn.model_selection import cross_validate,cross_val_predict"
   ]
  },
  {
   "cell_type": "markdown",
   "id": "de7dfb0c",
   "metadata": {},
   "source": [
    "### Building the model and using cross validation to get best model"
   ]
  },
  {
   "cell_type": "code",
   "execution_count": 69,
   "id": "644b6ce0",
   "metadata": {},
   "outputs": [
    {
     "name": "stderr",
     "output_type": "stream",
     "text": [
      "/Users/apple/opt/anaconda3/lib/python3.9/site-packages/sklearn/metrics/_classification.py:1318: UndefinedMetricWarning: Precision is ill-defined and being set to 0.0 in labels with no predicted samples. Use `zero_division` parameter to control this behavior.\n",
      "  _warn_prf(average, modifier, msg_start, len(result))\n",
      "/Users/apple/opt/anaconda3/lib/python3.9/site-packages/sklearn/metrics/_classification.py:1318: UndefinedMetricWarning: Precision is ill-defined and being set to 0.0 in labels with no predicted samples. Use `zero_division` parameter to control this behavior.\n",
      "  _warn_prf(average, modifier, msg_start, len(result))\n",
      "/Users/apple/opt/anaconda3/lib/python3.9/site-packages/sklearn/metrics/_classification.py:1318: UndefinedMetricWarning: Precision is ill-defined and being set to 0.0 in labels with no predicted samples. Use `zero_division` parameter to control this behavior.\n",
      "  _warn_prf(average, modifier, msg_start, len(result))\n",
      "/Users/apple/opt/anaconda3/lib/python3.9/site-packages/sklearn/metrics/_classification.py:1318: UndefinedMetricWarning: Precision is ill-defined and being set to 0.0 in labels with no predicted samples. Use `zero_division` parameter to control this behavior.\n",
      "  _warn_prf(average, modifier, msg_start, len(result))\n",
      "/Users/apple/opt/anaconda3/lib/python3.9/site-packages/sklearn/metrics/_classification.py:1318: UndefinedMetricWarning: Precision is ill-defined and being set to 0.0 in labels with no predicted samples. Use `zero_division` parameter to control this behavior.\n",
      "  _warn_prf(average, modifier, msg_start, len(result))\n",
      "/Users/apple/opt/anaconda3/lib/python3.9/site-packages/sklearn/metrics/_classification.py:1318: UndefinedMetricWarning: Precision is ill-defined and being set to 0.0 in labels with no predicted samples. Use `zero_division` parameter to control this behavior.\n",
      "  _warn_prf(average, modifier, msg_start, len(result))\n",
      "/Users/apple/opt/anaconda3/lib/python3.9/site-packages/sklearn/metrics/_classification.py:1318: UndefinedMetricWarning: Precision is ill-defined and being set to 0.0 in labels with no predicted samples. Use `zero_division` parameter to control this behavior.\n",
      "  _warn_prf(average, modifier, msg_start, len(result))\n",
      "/Users/apple/opt/anaconda3/lib/python3.9/site-packages/sklearn/metrics/_classification.py:1318: UndefinedMetricWarning: Precision is ill-defined and being set to 0.0 in labels with no predicted samples. Use `zero_division` parameter to control this behavior.\n",
      "  _warn_prf(average, modifier, msg_start, len(result))\n",
      "/Users/apple/opt/anaconda3/lib/python3.9/site-packages/sklearn/metrics/_classification.py:1318: UndefinedMetricWarning: Precision is ill-defined and being set to 0.0 in labels with no predicted samples. Use `zero_division` parameter to control this behavior.\n",
      "  _warn_prf(average, modifier, msg_start, len(result))\n",
      "/Users/apple/opt/anaconda3/lib/python3.9/site-packages/sklearn/metrics/_classification.py:1318: UndefinedMetricWarning: Precision is ill-defined and being set to 0.0 in labels with no predicted samples. Use `zero_division` parameter to control this behavior.\n",
      "  _warn_prf(average, modifier, msg_start, len(result))\n",
      "/Users/apple/opt/anaconda3/lib/python3.9/site-packages/sklearn/metrics/_classification.py:1318: UndefinedMetricWarning: Precision is ill-defined and being set to 0.0 in labels with no predicted samples. Use `zero_division` parameter to control this behavior.\n",
      "  _warn_prf(average, modifier, msg_start, len(result))\n",
      "/Users/apple/opt/anaconda3/lib/python3.9/site-packages/sklearn/metrics/_classification.py:1318: UndefinedMetricWarning: Precision is ill-defined and being set to 0.0 in labels with no predicted samples. Use `zero_division` parameter to control this behavior.\n",
      "  _warn_prf(average, modifier, msg_start, len(result))\n",
      "/Users/apple/opt/anaconda3/lib/python3.9/site-packages/sklearn/metrics/_classification.py:1318: UndefinedMetricWarning: Precision is ill-defined and being set to 0.0 in labels with no predicted samples. Use `zero_division` parameter to control this behavior.\n",
      "  _warn_prf(average, modifier, msg_start, len(result))\n",
      "/Users/apple/opt/anaconda3/lib/python3.9/site-packages/sklearn/metrics/_classification.py:1318: UndefinedMetricWarning: Precision is ill-defined and being set to 0.0 in labels with no predicted samples. Use `zero_division` parameter to control this behavior.\n",
      "  _warn_prf(average, modifier, msg_start, len(result))\n",
      "/Users/apple/opt/anaconda3/lib/python3.9/site-packages/sklearn/metrics/_classification.py:1318: UndefinedMetricWarning: Precision is ill-defined and being set to 0.0 in labels with no predicted samples. Use `zero_division` parameter to control this behavior.\n",
      "  _warn_prf(average, modifier, msg_start, len(result))\n"
     ]
    }
   ],
   "source": [
    "ada_model = AdaBoostClassifier(random_state=10)\n",
    "\n",
    "scoring=['accuracy','f1_weighted','recall_weighted','precision_weighted']\n",
    "ada_scores = cross_validate(ada_model, X, y, scoring=scoring, cv=cv, n_jobs=-1, error_score='raise')\n",
    "\n",
    "acu_boost =  np.mean(ada_scores['test_accuracy'])\n",
    "f1_boost =  np.mean(ada_scores['test_f1_weighted']) \n",
    "prec_boost =  np.mean(ada_scores['test_precision_weighted']) \n",
    "rec_boost =  np.mean(ada_scores['test_recall_weighted'])"
   ]
  },
  {
   "cell_type": "markdown",
   "id": "cb03fb4c",
   "metadata": {},
   "source": [
    "### Fitting the model"
   ]
  },
  {
   "cell_type": "code",
   "execution_count": 70,
   "id": "26c23a77",
   "metadata": {},
   "outputs": [],
   "source": [
    "adaboost = AdaBoostClassifier().fit(x_train, y_train)"
   ]
  },
  {
   "cell_type": "markdown",
   "id": "4c1c8500",
   "metadata": {},
   "source": [
    "### Predictions"
   ]
  },
  {
   "cell_type": "code",
   "execution_count": 71,
   "id": "64727e58",
   "metadata": {},
   "outputs": [
    {
     "name": "stdout",
     "output_type": "stream",
     "text": [
      "Predictions :  [3 3 2 3 1 3 3 3 3 3 3 2 0 0 2 2 2 2 3 2 3 3 3 3 2 2 0 3 3 0 3 3 0 2 3 3 3\n",
      " 3 0 1 3 0 0 0 0 3 3 3 3 3 1 0 3 1 3 3 3 0 0 3 2 2 2 3 2 3 2 3 1 3 2 3 2 0\n",
      " 2 1 2 2 1 3 2 1 0 3 3 3 3 2 1 1 3 3 2 3 2 3 2 0 2 3 2 3 3 0 0 0 0 3 3 2 2\n",
      " 1 3 2 0 3 3 3 3 3 3 3 2 3 0 3 3 2 2 0 0 3 2 2 2 0 3 2 3 3 2 1 2 3 2 3 3 1\n",
      " 2 3 2 2 3 2 3 0 2 2 3 2 2 3 1 1 3 3 3 3 3 2 3 2 2 0 2 3 3 3 3 2 3 0 0 2 3\n",
      " 3 3 0 0 3 3 2 3 3 0 3 3 3 3 3 0 0 3 2 3 0 3 2 1 3 2 2 2 3 2 3 1 3 0 2 3 3\n",
      " 0 2 2 0 3 3 3 2 3 3 1 3 3 3 1 2 3 2 3 0 2 1 2 2 1 3 3 3 1 3 2 0 3 3 3 0 3\n",
      " 1 0 1 3 3 1 3 2 1 3 2 1 3 2 3 2 0 2 2 3 3 0 3 2 3 3 0 3 0 2 3 3 2 3 3 3 1\n",
      " 2 2 3 0 3 1 1 2 1 0 0 3 3 0 3 3 3 0 3 0 3 1 2 2 1 3 3 0 0 0 3 3 0 3 2 2 3\n",
      " 2 0 3 0 0 1 2 2 2 3 3 2 3 3 2 3 3 1 3 2 0 2 3 3 0 3 2 3 3 2 0 3 1 2 1 2 0\n",
      " 2 2 0 3 3 3 3 3 3 2 3 2 1 1 1 1 0 3 3 3 2 2 2 2 3 3 1 3 3 0 0 0 3 2 0 3 1\n",
      " 2 3 3 0 2 1 2 2 2 2 3 2 3 1 2 3 3 3 3 0 3 0 1 3 3 3 1 0 2 1 3 3 3 3 3 2 3\n",
      " 3 3 3 2 0 3 3 3 3 0 0 3 0 3 0 2 3 3 0 0 0 3 1 3 3 2 3 1 0 2 3 3 3 1 3 3 2\n",
      " 2 2 3 3 2 3 2 0 2 2 3 3 3 0 3 1 3 2 2 3 0 0 2 3 2 0 0 0 3 3 0 0 1 3 0 2 0\n",
      " 2 0 1 3 0 0 3 0 2 3 3 3 0 1 0 3 3 3 3 1 3 1 0 3 2 3 2 0 3 3 3 2 0 3 3 1 0\n",
      " 1 0 3 3 3 3 3 1 2 3 3 3 1 2 3 1 0 0 3 1 2 0 3 2 2 2 3 2 3 2 2 3 2 3 3 0 0\n",
      " 3 3 3 2 3 0 3 1]\n"
     ]
    }
   ],
   "source": [
    "ab_pred = adaboost.predict(x_test)\n",
    "print('Predictions : ',ab_pred)"
   ]
  },
  {
   "cell_type": "markdown",
   "id": "2091bb92",
   "metadata": {},
   "source": [
    "### Visualizations"
   ]
  },
  {
   "cell_type": "code",
   "execution_count": 72,
   "id": "9c6bdd3c",
   "metadata": {},
   "outputs": [
    {
     "data": {
      "text/plain": [
       "<matplotlib.collections.PathCollection at 0x7fc5de9999d0>"
      ]
     },
     "execution_count": 72,
     "metadata": {},
     "output_type": "execute_result"
    },
    {
     "data": {
      "image/png": "[encoded data removed]",
      "text/plain": [
       "<Figure size 1080x360 with 1 Axes>"
      ]
     },
     "metadata": {
      "needs_background": "light"
     },
     "output_type": "display_data"
    }
   ],
   "source": [
    "\n",
    "plt.figure(figsize=(15,5))\n",
    "plt.title('Actual Vs Predicted - AdaBoost')\n",
    "x = np.arange(len(y_test[:100]))\n",
    "plt.scatter(x,y_test[:100],label='Actual',color='b')\n",
    "plt.scatter(x,ab_pred[:100],label='Predicted',color='pink')"
   ]
  },
  {
   "cell_type": "code",
   "execution_count": 73,
   "id": "a333796c",
   "metadata": {},
   "outputs": [
    {
     "data": {
      "text/plain": [
       "<matplotlib.collections.PathCollection at 0x7fc5ddff6a00>"
      ]
     },
     "execution_count": 73,
     "metadata": {},
     "output_type": "execute_result"
    },
    {
     "data": {
      "image/png": "[encoded data removed]",
      "text/plain": [
       "<Figure size 1080x360 with 2 Axes>"
      ]
     },
     "metadata": {
      "needs_background": "light"
     },
     "output_type": "display_data"
    }
   ],
   "source": [
    "plt.figure(figsize=(15,5))\n",
    "x = np.arange(len(y_test[:100]))\n",
    "plt.subplot(121)\n",
    "plt.title('Actual')\n",
    "plt.scatter(x,y_test[:100],color='b')\n",
    "plt.subplot(122)\n",
    "plt.title('Predicted')\n",
    "plt.scatter(x,ab_pred[:100],color='pink')"
   ]
  },
  {
   "cell_type": "code",
   "execution_count": 74,
   "id": "47e9c1d2",
   "metadata": {},
   "outputs": [
    {
     "name": "stderr",
     "output_type": "stream",
     "text": [
      "/var/folders/s5/fs8wsfxx4tndrhq92pr2nzq80000gn/T/ipykernel_14926/1135251882.py:2: FutureWarning: The frame.append method is deprecated and will be removed from pandas in a future version. Use pandas.concat instead.\n",
      "  compare = compare.append(df2, ignore_index = True)\n"
     ]
    }
   ],
   "source": [
    "df2 = {'Model': 'Ada Boost', 'Accuracy': acu_boost, 'Recall':f1_boost ,'F1-score':prec_boost,'Precision':rec_boost}\n",
    "compare = compare.append(df2, ignore_index = True)"
   ]
  },
  {
   "cell_type": "code",
   "execution_count": 75,
   "id": "7cc02e39",
   "metadata": {},
   "outputs": [
    {
     "data": {
      "text/html": [
       "<div>\n",
       "<style scoped>\n",
       "    .dataframe tbody tr th:only-of-type {\n",
       "        vertical-align: middle;\n",
       "    }\n",
       "\n",
       "    .dataframe tbody tr th {\n",
       "        vertical-align: top;\n",
       "    }\n",
       "\n",
       "    .dataframe thead th {\n",
       "        text-align: right;\n",
       "    }\n",
       "</style>\n",
       "<table border=\"1\" class=\"dataframe\">\n",
       "  <thead>\n",
       "    <tr style=\"text-align: right;\">\n",
       "      <th></th>\n",
       "      <th>Model</th>\n",
       "      <th>Accuracy</th>\n",
       "      <th>Recall</th>\n",
       "      <th>F1-score</th>\n",
       "      <th>Precision</th>\n",
       "    </tr>\n",
       "  </thead>\n",
       "  <tbody>\n",
       "    <tr>\n",
       "      <th>0</th>\n",
       "      <td>Naive Bayes</td>\n",
       "      <td>0.916667</td>\n",
       "      <td>0.916667</td>\n",
       "      <td>0.915839</td>\n",
       "      <td>0.915953</td>\n",
       "    </tr>\n",
       "    <tr>\n",
       "      <th>1</th>\n",
       "      <td>Decision Tree</td>\n",
       "      <td>0.950000</td>\n",
       "      <td>0.950000</td>\n",
       "      <td>0.949888</td>\n",
       "      <td>0.949890</td>\n",
       "    </tr>\n",
       "    <tr>\n",
       "      <th>2</th>\n",
       "      <td>Random Forrest</td>\n",
       "      <td>0.950000</td>\n",
       "      <td>0.950000</td>\n",
       "      <td>0.949888</td>\n",
       "      <td>0.949890</td>\n",
       "    </tr>\n",
       "    <tr>\n",
       "      <th>3</th>\n",
       "      <td>KNN</td>\n",
       "      <td>0.941667</td>\n",
       "      <td>0.941667</td>\n",
       "      <td>0.941315</td>\n",
       "      <td>0.941659</td>\n",
       "    </tr>\n",
       "    <tr>\n",
       "      <th>4</th>\n",
       "      <td>Ada Boost</td>\n",
       "      <td>0.597778</td>\n",
       "      <td>0.569865</td>\n",
       "      <td>0.602851</td>\n",
       "      <td>0.597778</td>\n",
       "    </tr>\n",
       "  </tbody>\n",
       "</table>\n",
       "</div>"
      ],
      "text/plain": [
       "            Model  Accuracy    Recall  F1-score  Precision\n",
       "0     Naive Bayes  0.916667  0.916667  0.915839   0.915953\n",
       "1   Decision Tree  0.950000  0.950000  0.949888   0.949890\n",
       "2  Random Forrest  0.950000  0.950000  0.949888   0.949890\n",
       "3             KNN  0.941667  0.941667  0.941315   0.941659\n",
       "4       Ada Boost  0.597778  0.569865  0.602851   0.597778"
      ]
     },
     "execution_count": 75,
     "metadata": {},
     "output_type": "execute_result"
    }
   ],
   "source": [
    "compare "
   ]
  },
  {
   "cell_type": "markdown",
   "id": "f47d0319",
   "metadata": {},
   "source": [
    "*********************"
   ]
  },
  {
   "cell_type": "markdown",
   "id": "1ff6052f",
   "metadata": {},
   "source": [
    "<span style=\"font-size:28px\" ><mark> Stacking </mark> <span> "
   ]
  },
  {
   "cell_type": "markdown",
   "id": "079cda37",
   "metadata": {},
   "source": [
    "### Building the stacking model"
   ]
  },
  {
   "cell_type": "code",
   "execution_count": 76,
   "id": "a170d459",
   "metadata": {},
   "outputs": [],
   "source": [
    "from sklearn.neighbors import KNeighborsClassifier\n",
    "from sklearn.tree import DecisionTreeClassifier\n",
    "from sklearn.naive_bayes import GaussianNB\n",
    "from sklearn.ensemble import StackingClassifier\n",
    "\n",
    "# 1. Base model : KNN, Decision tree, SVM, Naive bayes\n",
    "\n",
    "def get_stacking():\n",
    "\t# define the base models\n",
    "\tlevel0 = list()\n",
    "\tlevel0.append(('KNN', KNeighborsClassifier()))\n",
    "\tlevel0.append(('DT', DecisionTreeClassifier()))\n",
    "\tlevel0.append(('NB', GaussianNB()))\n",
    " \n",
    "\t# define meta learner model\n",
    "\tlevel1 = KNeighborsClassifier()\n",
    " \n",
    "\t# define the stacking ensemble\n",
    "\ts_model = StackingClassifier(estimators=level0, final_estimator=level1, cv=5)\n",
    "\treturn s_model\n",
    "\n",
    "# define the model\n",
    "meta_model = get_stacking()\n",
    "\n",
    "# evaluate the model\n",
    "stack_scores = cross_validate(meta_model, X, y, scoring=scoring, cv=cv, n_jobs=-1, error_score='raise')\n",
    "\n",
    "ac_stack = np.mean(stack_scores['test_accuracy'])\n",
    "f1_stack = np.mean(stack_scores['test_f1_weighted'])\n",
    "pre_stack = np.mean(stack_scores['test_precision_weighted'])\n",
    "rec_stack = np.mean(stack_scores['test_recall_weighted'])\n"
   ]
  },
  {
   "cell_type": "markdown",
   "id": "06d9ffaf",
   "metadata": {},
   "source": [
    "### Fitting the model amnd Performing Predicitons"
   ]
  },
  {
   "cell_type": "code",
   "execution_count": 77,
   "id": "a43a6719",
   "metadata": {
    "scrolled": true
   },
   "outputs": [
    {
     "name": "stdout",
     "output_type": "stream",
     "text": [
      "Predictions :  [3 3 2 3 1 3 3 3 3 3 3 2 0 0 1 2 2 2 3 2 3 3 3 3 2 2 0 3 3 1 3 3 0 2 3 3 3\n",
      " 3 0 1 3 1 0 1 1 3 3 3 3 3 1 1 3 1 3 3 3 0 1 3 1 2 2 3 2 3 2 3 1 4 3 3 2 1\n",
      " 2 1 2 2 1 3 2 1 0 3 3 3 3 2 1 1 3 3 2 3 2 3 2 0 2 3 2 3 3 1 1 0 0 3 3 2 2\n",
      " 1 3 2 0 4 3 3 2 3 3 3 2 3 0 3 3 2 2 0 1 3 2 2 2 0 3 2 3 3 2 1 2 3 2 3 3 1\n",
      " 2 3 2 2 3 2 3 1 2 2 3 2 2 3 1 1 3 3 3 3 3 2 3 2 1 0 1 3 3 3 3 2 3 0 0 2 3\n",
      " 3 3 0 1 3 3 2 3 3 0 3 3 4 3 3 0 1 3 2 3 0 3 2 1 3 2 2 2 3 2 3 1 3 0 2 3 4\n",
      " 0 2 2 1 3 3 3 2 3 3 1 3 3 3 1 2 3 2 3 0 2 2 2 2 1 3 3 2 1 3 2 1 3 3 3 1 3\n",
      " 1 0 1 3 3 1 3 2 1 3 2 1 3 2 3 2 0 2 2 3 3 0 3 2 4 4 1 3 0 2 3 3 2 3 3 4 1\n",
      " 2 2 3 0 3 1 1 2 1 0 0 3 3 0 3 3 4 0 3 1 3 1 2 2 1 3 3 1 1 0 3 3 1 3 2 2 3\n",
      " 2 0 3 0 1 1 2 1 2 3 3 2 3 3 2 3 3 1 3 2 1 2 3 3 0 2 2 3 3 2 0 3 1 2 1 2 0\n",
      " 2 2 1 3 3 4 4 3 4 2 3 2 1 1 1 1 1 3 3 3 2 2 2 2 3 3 1 3 3 1 1 0 3 2 1 3 1\n",
      " 2 3 3 1 2 1 2 2 2 2 3 2 3 1 2 3 3 3 3 1 3 1 1 3 3 3 1 0 2 1 4 3 4 3 3 1 3\n",
      " 3 3 3 2 1 3 2 3 3 0 1 3 0 3 0 2 3 3 1 0 0 3 1 3 3 2 3 1 0 2 3 2 2 1 3 3 2\n",
      " 2 2 3 3 2 3 2 1 2 2 3 3 3 0 3 2 3 1 2 3 0 0 2 3 2 0 1 1 2 3 1 1 1 3 0 2 1\n",
      " 2 0 1 3 0 0 3 1 2 3 3 3 1 1 1 3 3 3 3 1 3 1 1 3 2 3 2 1 3 4 3 2 0 3 3 1 1\n",
      " 1 1 3 3 3 2 3 1 2 3 3 3 2 2 3 1 1 1 3 1 2 0 3 2 2 2 3 2 3 2 2 3 2 3 3 0 1\n",
      " 3 3 3 2 3 0 3 1]\n"
     ]
    }
   ],
   "source": [
    "stack = get_stacking().fit(x_train, y_train)\n",
    "\n",
    "stack_pred = stack.predict(x_test)\n",
    "print('Predictions : ',stack_pred)"
   ]
  },
  {
   "cell_type": "markdown",
   "id": "b1e62bf1",
   "metadata": {},
   "source": [
    "### Visualizations"
   ]
  },
  {
   "cell_type": "code",
   "execution_count": 78,
   "id": "8402d429",
   "metadata": {},
   "outputs": [
    {
     "data": {
      "image/png": "[encoded data removed]",
      "text/plain": [
       "<Figure size 1080x360 with 1 Axes>"
      ]
     },
     "metadata": {
      "needs_background": "light"
     },
     "output_type": "display_data"
    }
   ],
   "source": [
    "plt.figure(figsize=(15,5))\n",
    "plt.title('Actual Vs Predicted - Stacking')\n",
    "x = np.arange(len(y_test[:100]))\n",
    "plt.scatter(x,y_test[:100],label='Actual',color='b')\n",
    "plt.scatter(x,stack_pred[:100],label='Predicted',color='pink')\n",
    "plt.legend()\n",
    "plt.show()"
   ]
  },
  {
   "cell_type": "code",
   "execution_count": 79,
   "id": "7e6b1b97",
   "metadata": {},
   "outputs": [
    {
     "data": {
      "text/plain": [
       "<matplotlib.collections.PathCollection at 0x7fc5dda16820>"
      ]
     },
     "execution_count": 79,
     "metadata": {},
     "output_type": "execute_result"
    },
    {
     "data": {
      "image/png": "[encoded data removed]",
      "text/plain": [
       "<Figure size 1080x360 with 2 Axes>"
      ]
     },
     "metadata": {
      "needs_background": "light"
     },
     "output_type": "display_data"
    }
   ],
   "source": [
    "plt.figure(figsize=(15,5))\n",
    "x = np.arange(len(y_test[:100]))\n",
    "plt.subplot(121)\n",
    "plt.title('Actual')\n",
    "plt.scatter(x,y_test[:100],color='b')\n",
    "plt.subplot(122)\n",
    "plt.title('Predicted')\n",
    "plt.scatter(x,stack_pred[:100],color='pink')"
   ]
  },
  {
   "cell_type": "code",
   "execution_count": 83,
   "id": "c2bf2915",
   "metadata": {},
   "outputs": [
    {
     "name": "stderr",
     "output_type": "stream",
     "text": [
      "/var/folders/s5/fs8wsfxx4tndrhq92pr2nzq80000gn/T/ipykernel_14926/226241960.py:2: FutureWarning: The frame.append method is deprecated and will be removed from pandas in a future version. Use pandas.concat instead.\n",
      "  compare = compare.append(df2, ignore_index = True)\n"
     ]
    }
   ],
   "source": [
    "df2 = {'Model': 'Stacking', 'Accuracy': ac_stack, 'Recall':f1_stack ,'F1-score':pre_stack,'Precision':rec_stack}\n",
    "compare = compare.append(df2, ignore_index = True)"
   ]
  },
  {
   "cell_type": "markdown",
   "id": "df43e6b1",
   "metadata": {},
   "source": [
    "********************************"
   ]
  },
  {
   "cell_type": "markdown",
   "id": "ff21b673",
   "metadata": {},
   "source": [
    "<div class=\"alert alert-info\"> <p style=\"text-align:center;\" >  <span style=\"font-size:28px\" > Comprison of models<span>  </div> <p>"
   ]
  },
  {
   "cell_type": "code",
   "execution_count": 84,
   "id": "a8c9abea",
   "metadata": {},
   "outputs": [
    {
     "data": {
      "text/html": [
       "<div>\n",
       "<style scoped>\n",
       "    .dataframe tbody tr th:only-of-type {\n",
       "        vertical-align: middle;\n",
       "    }\n",
       "\n",
       "    .dataframe tbody tr th {\n",
       "        vertical-align: top;\n",
       "    }\n",
       "\n",
       "    .dataframe thead th {\n",
       "        text-align: right;\n",
       "    }\n",
       "</style>\n",
       "<table border=\"1\" class=\"dataframe\">\n",
       "  <thead>\n",
       "    <tr style=\"text-align: right;\">\n",
       "      <th></th>\n",
       "      <th>Model</th>\n",
       "      <th>Accuracy</th>\n",
       "      <th>Recall</th>\n",
       "      <th>F1-score</th>\n",
       "      <th>Precision</th>\n",
       "    </tr>\n",
       "  </thead>\n",
       "  <tbody>\n",
       "    <tr>\n",
       "      <th>0</th>\n",
       "      <td>Naive Bayes</td>\n",
       "      <td>0.916667</td>\n",
       "      <td>0.916667</td>\n",
       "      <td>0.915839</td>\n",
       "      <td>0.915953</td>\n",
       "    </tr>\n",
       "    <tr>\n",
       "      <th>1</th>\n",
       "      <td>Decision Tree</td>\n",
       "      <td>0.950000</td>\n",
       "      <td>0.950000</td>\n",
       "      <td>0.949888</td>\n",
       "      <td>0.949890</td>\n",
       "    </tr>\n",
       "    <tr>\n",
       "      <th>2</th>\n",
       "      <td>Random Forrest</td>\n",
       "      <td>0.950000</td>\n",
       "      <td>0.950000</td>\n",
       "      <td>0.949888</td>\n",
       "      <td>0.949890</td>\n",
       "    </tr>\n",
       "    <tr>\n",
       "      <th>3</th>\n",
       "      <td>KNN</td>\n",
       "      <td>0.941667</td>\n",
       "      <td>0.941667</td>\n",
       "      <td>0.941315</td>\n",
       "      <td>0.941659</td>\n",
       "    </tr>\n",
       "    <tr>\n",
       "      <th>4</th>\n",
       "      <td>Ada Boost</td>\n",
       "      <td>0.597778</td>\n",
       "      <td>0.569865</td>\n",
       "      <td>0.602851</td>\n",
       "      <td>0.597778</td>\n",
       "    </tr>\n",
       "    <tr>\n",
       "      <th>5</th>\n",
       "      <td>Stacking</td>\n",
       "      <td>0.835778</td>\n",
       "      <td>0.834313</td>\n",
       "      <td>0.835206</td>\n",
       "      <td>0.835778</td>\n",
       "    </tr>\n",
       "  </tbody>\n",
       "</table>\n",
       "</div>"
      ],
      "text/plain": [
       "            Model  Accuracy    Recall  F1-score  Precision\n",
       "0     Naive Bayes  0.916667  0.916667  0.915839   0.915953\n",
       "1   Decision Tree  0.950000  0.950000  0.949888   0.949890\n",
       "2  Random Forrest  0.950000  0.950000  0.949888   0.949890\n",
       "3             KNN  0.941667  0.941667  0.941315   0.941659\n",
       "4       Ada Boost  0.597778  0.569865  0.602851   0.597778\n",
       "5        Stacking  0.835778  0.834313  0.835206   0.835778"
      ]
     },
     "execution_count": 84,
     "metadata": {},
     "output_type": "execute_result"
    }
   ],
   "source": [
    "compare "
   ]
  },
  {
   "cell_type": "code",
   "execution_count": 85,
   "id": "7dad5259",
   "metadata": {},
   "outputs": [
    {
     "data": {
      "image/png": "[encoded data removed]",
      "text/plain": [
       "<Figure size 1080x360 with 1 Axes>"
      ]
     },
     "metadata": {
      "needs_background": "light"
     },
     "output_type": "display_data"
    }
   ],
   "source": [
    "\n",
    "compare_plot = compare[['Model','Accuracy','Recall','F1-score','Precision']]\n",
    "compare_plot.plot(x='Model', kind='bar', stacked=True, title='Comparison of models',figsize=(15,5))\n",
    "plt.show()"
   ]
  },
  {
   "cell_type": "markdown",
   "id": "e74d6ae9",
   "metadata": {},
   "source": [
    "<span style=\"font-size:28px\" >We can see that the decision tree and the random forest algorithms have highest and similar accuracy and other model performance scores therefore we can conclude that either of these models will give us correct predictions of the house grades."
   ]
  }
 ],
 "metadata": {
  "kernelspec": {
   "display_name": "Python 3 (ipykernel)",
   "language": "python",
   "name": "python3"
  },
  "language_info": {
   "codemirror_mode": {
    "name": "ipython",
    "version": 3
   },
   "file_extension": ".py",
   "mimetype": "text/x-python",
   "name": "python",
   "nbconvert_exporter": "python",
   "pygments_lexer": "ipython3",
   "version": "3.9.12"
  }
 },
 "nbformat": 4,
 "nbformat_minor": 5
}
